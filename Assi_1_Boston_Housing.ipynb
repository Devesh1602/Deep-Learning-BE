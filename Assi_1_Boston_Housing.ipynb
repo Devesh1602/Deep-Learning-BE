{
  "nbformat": 4,
  "nbformat_minor": 0,
  "metadata": {
    "colab": {
      "provenance": []
    },
    "kernelspec": {
      "name": "python3",
      "display_name": "Python 3"
    },
    "language_info": {
      "name": "python"
    }
  },
  "cells": [
    {
      "cell_type": "code",
      "execution_count": null,
      "metadata": {
        "id": "BSk6NlWhdAX4"
      },
      "outputs": [],
      "source": [
        "#Dataset link - https://www.kaggle.com/datasets/altavish/boston-housing-dataset"
      ]
    },
    {
      "cell_type": "code",
      "source": [
        "import pandas as pd\n",
        "import numpy as np\n",
        "import tensorflow as tf"
      ],
      "metadata": {
        "id": "0NlFMTU5dVRi"
      },
      "execution_count": 1,
      "outputs": []
    },
    {
      "cell_type": "code",
      "source": [
        "\n",
        "df=pd.read_csv(\"https://github.com/Sahil-Naik/BE-Programming/raw/main/LP-V(DL)/Assignment-1/housing.csv\")\n",
        "df.head()"
      ],
      "metadata": {
        "colab": {
          "base_uri": "https://localhost:8080/",
          "height": 206
        },
        "id": "Wmc8v_TbdXXY",
        "outputId": "cec5b3ba-7a1b-4154-e039-7f8343e2328f"
      },
      "execution_count": 3,
      "outputs": [
        {
          "output_type": "execute_result",
          "data": {
            "text/plain": [
              "      RM  LSTAT  PTRATIO      MEDV\n",
              "0  6.575   4.98     15.3  504000.0\n",
              "1  6.421   9.14     17.8  453600.0\n",
              "2  7.185   4.03     17.8  728700.0\n",
              "3  6.998   2.94     18.7  701400.0\n",
              "4  7.147   5.33     18.7  760200.0"
            ],
            "text/html": [
              "\n",
              "  <div id=\"df-8109a680-d059-4a59-bfa0-1c5635d6b3a4\" class=\"colab-df-container\">\n",
              "    <div>\n",
              "<style scoped>\n",
              "    .dataframe tbody tr th:only-of-type {\n",
              "        vertical-align: middle;\n",
              "    }\n",
              "\n",
              "    .dataframe tbody tr th {\n",
              "        vertical-align: top;\n",
              "    }\n",
              "\n",
              "    .dataframe thead th {\n",
              "        text-align: right;\n",
              "    }\n",
              "</style>\n",
              "<table border=\"1\" class=\"dataframe\">\n",
              "  <thead>\n",
              "    <tr style=\"text-align: right;\">\n",
              "      <th></th>\n",
              "      <th>RM</th>\n",
              "      <th>LSTAT</th>\n",
              "      <th>PTRATIO</th>\n",
              "      <th>MEDV</th>\n",
              "    </tr>\n",
              "  </thead>\n",
              "  <tbody>\n",
              "    <tr>\n",
              "      <th>0</th>\n",
              "      <td>6.575</td>\n",
              "      <td>4.98</td>\n",
              "      <td>15.3</td>\n",
              "      <td>504000.0</td>\n",
              "    </tr>\n",
              "    <tr>\n",
              "      <th>1</th>\n",
              "      <td>6.421</td>\n",
              "      <td>9.14</td>\n",
              "      <td>17.8</td>\n",
              "      <td>453600.0</td>\n",
              "    </tr>\n",
              "    <tr>\n",
              "      <th>2</th>\n",
              "      <td>7.185</td>\n",
              "      <td>4.03</td>\n",
              "      <td>17.8</td>\n",
              "      <td>728700.0</td>\n",
              "    </tr>\n",
              "    <tr>\n",
              "      <th>3</th>\n",
              "      <td>6.998</td>\n",
              "      <td>2.94</td>\n",
              "      <td>18.7</td>\n",
              "      <td>701400.0</td>\n",
              "    </tr>\n",
              "    <tr>\n",
              "      <th>4</th>\n",
              "      <td>7.147</td>\n",
              "      <td>5.33</td>\n",
              "      <td>18.7</td>\n",
              "      <td>760200.0</td>\n",
              "    </tr>\n",
              "  </tbody>\n",
              "</table>\n",
              "</div>\n",
              "    <div class=\"colab-df-buttons\">\n",
              "\n",
              "  <div class=\"colab-df-container\">\n",
              "    <button class=\"colab-df-convert\" onclick=\"convertToInteractive('df-8109a680-d059-4a59-bfa0-1c5635d6b3a4')\"\n",
              "            title=\"Convert this dataframe to an interactive table.\"\n",
              "            style=\"display:none;\">\n",
              "\n",
              "  <svg xmlns=\"http://www.w3.org/2000/svg\" height=\"24px\" viewBox=\"0 -960 960 960\">\n",
              "    <path d=\"M120-120v-720h720v720H120Zm60-500h600v-160H180v160Zm220 220h160v-160H400v160Zm0 220h160v-160H400v160ZM180-400h160v-160H180v160Zm440 0h160v-160H620v160ZM180-180h160v-160H180v160Zm440 0h160v-160H620v160Z\"/>\n",
              "  </svg>\n",
              "    </button>\n",
              "\n",
              "  <style>\n",
              "    .colab-df-container {\n",
              "      display:flex;\n",
              "      gap: 12px;\n",
              "    }\n",
              "\n",
              "    .colab-df-convert {\n",
              "      background-color: #E8F0FE;\n",
              "      border: none;\n",
              "      border-radius: 50%;\n",
              "      cursor: pointer;\n",
              "      display: none;\n",
              "      fill: #1967D2;\n",
              "      height: 32px;\n",
              "      padding: 0 0 0 0;\n",
              "      width: 32px;\n",
              "    }\n",
              "\n",
              "    .colab-df-convert:hover {\n",
              "      background-color: #E2EBFA;\n",
              "      box-shadow: 0px 1px 2px rgba(60, 64, 67, 0.3), 0px 1px 3px 1px rgba(60, 64, 67, 0.15);\n",
              "      fill: #174EA6;\n",
              "    }\n",
              "\n",
              "    .colab-df-buttons div {\n",
              "      margin-bottom: 4px;\n",
              "    }\n",
              "\n",
              "    [theme=dark] .colab-df-convert {\n",
              "      background-color: #3B4455;\n",
              "      fill: #D2E3FC;\n",
              "    }\n",
              "\n",
              "    [theme=dark] .colab-df-convert:hover {\n",
              "      background-color: #434B5C;\n",
              "      box-shadow: 0px 1px 3px 1px rgba(0, 0, 0, 0.15);\n",
              "      filter: drop-shadow(0px 1px 2px rgba(0, 0, 0, 0.3));\n",
              "      fill: #FFFFFF;\n",
              "    }\n",
              "  </style>\n",
              "\n",
              "    <script>\n",
              "      const buttonEl =\n",
              "        document.querySelector('#df-8109a680-d059-4a59-bfa0-1c5635d6b3a4 button.colab-df-convert');\n",
              "      buttonEl.style.display =\n",
              "        google.colab.kernel.accessAllowed ? 'block' : 'none';\n",
              "\n",
              "      async function convertToInteractive(key) {\n",
              "        const element = document.querySelector('#df-8109a680-d059-4a59-bfa0-1c5635d6b3a4');\n",
              "        const dataTable =\n",
              "          await google.colab.kernel.invokeFunction('convertToInteractive',\n",
              "                                                    [key], {});\n",
              "        if (!dataTable) return;\n",
              "\n",
              "        const docLinkHtml = 'Like what you see? Visit the ' +\n",
              "          '<a target=\"_blank\" href=https://colab.research.google.com/notebooks/data_table.ipynb>data table notebook</a>'\n",
              "          + ' to learn more about interactive tables.';\n",
              "        element.innerHTML = '';\n",
              "        dataTable['output_type'] = 'display_data';\n",
              "        await google.colab.output.renderOutput(dataTable, element);\n",
              "        const docLink = document.createElement('div');\n",
              "        docLink.innerHTML = docLinkHtml;\n",
              "        element.appendChild(docLink);\n",
              "      }\n",
              "    </script>\n",
              "  </div>\n",
              "\n",
              "\n",
              "<div id=\"df-ca48570c-fa1e-4c9a-82c3-22598c77027a\">\n",
              "  <button class=\"colab-df-quickchart\" onclick=\"quickchart('df-ca48570c-fa1e-4c9a-82c3-22598c77027a')\"\n",
              "            title=\"Suggest charts\"\n",
              "            style=\"display:none;\">\n",
              "\n",
              "<svg xmlns=\"http://www.w3.org/2000/svg\" height=\"24px\"viewBox=\"0 0 24 24\"\n",
              "     width=\"24px\">\n",
              "    <g>\n",
              "        <path d=\"M19 3H5c-1.1 0-2 .9-2 2v14c0 1.1.9 2 2 2h14c1.1 0 2-.9 2-2V5c0-1.1-.9-2-2-2zM9 17H7v-7h2v7zm4 0h-2V7h2v10zm4 0h-2v-4h2v4z\"/>\n",
              "    </g>\n",
              "</svg>\n",
              "  </button>\n",
              "\n",
              "<style>\n",
              "  .colab-df-quickchart {\n",
              "      --bg-color: #E8F0FE;\n",
              "      --fill-color: #1967D2;\n",
              "      --hover-bg-color: #E2EBFA;\n",
              "      --hover-fill-color: #174EA6;\n",
              "      --disabled-fill-color: #AAA;\n",
              "      --disabled-bg-color: #DDD;\n",
              "  }\n",
              "\n",
              "  [theme=dark] .colab-df-quickchart {\n",
              "      --bg-color: #3B4455;\n",
              "      --fill-color: #D2E3FC;\n",
              "      --hover-bg-color: #434B5C;\n",
              "      --hover-fill-color: #FFFFFF;\n",
              "      --disabled-bg-color: #3B4455;\n",
              "      --disabled-fill-color: #666;\n",
              "  }\n",
              "\n",
              "  .colab-df-quickchart {\n",
              "    background-color: var(--bg-color);\n",
              "    border: none;\n",
              "    border-radius: 50%;\n",
              "    cursor: pointer;\n",
              "    display: none;\n",
              "    fill: var(--fill-color);\n",
              "    height: 32px;\n",
              "    padding: 0;\n",
              "    width: 32px;\n",
              "  }\n",
              "\n",
              "  .colab-df-quickchart:hover {\n",
              "    background-color: var(--hover-bg-color);\n",
              "    box-shadow: 0 1px 2px rgba(60, 64, 67, 0.3), 0 1px 3px 1px rgba(60, 64, 67, 0.15);\n",
              "    fill: var(--button-hover-fill-color);\n",
              "  }\n",
              "\n",
              "  .colab-df-quickchart-complete:disabled,\n",
              "  .colab-df-quickchart-complete:disabled:hover {\n",
              "    background-color: var(--disabled-bg-color);\n",
              "    fill: var(--disabled-fill-color);\n",
              "    box-shadow: none;\n",
              "  }\n",
              "\n",
              "  .colab-df-spinner {\n",
              "    border: 2px solid var(--fill-color);\n",
              "    border-color: transparent;\n",
              "    border-bottom-color: var(--fill-color);\n",
              "    animation:\n",
              "      spin 1s steps(1) infinite;\n",
              "  }\n",
              "\n",
              "  @keyframes spin {\n",
              "    0% {\n",
              "      border-color: transparent;\n",
              "      border-bottom-color: var(--fill-color);\n",
              "      border-left-color: var(--fill-color);\n",
              "    }\n",
              "    20% {\n",
              "      border-color: transparent;\n",
              "      border-left-color: var(--fill-color);\n",
              "      border-top-color: var(--fill-color);\n",
              "    }\n",
              "    30% {\n",
              "      border-color: transparent;\n",
              "      border-left-color: var(--fill-color);\n",
              "      border-top-color: var(--fill-color);\n",
              "      border-right-color: var(--fill-color);\n",
              "    }\n",
              "    40% {\n",
              "      border-color: transparent;\n",
              "      border-right-color: var(--fill-color);\n",
              "      border-top-color: var(--fill-color);\n",
              "    }\n",
              "    60% {\n",
              "      border-color: transparent;\n",
              "      border-right-color: var(--fill-color);\n",
              "    }\n",
              "    80% {\n",
              "      border-color: transparent;\n",
              "      border-right-color: var(--fill-color);\n",
              "      border-bottom-color: var(--fill-color);\n",
              "    }\n",
              "    90% {\n",
              "      border-color: transparent;\n",
              "      border-bottom-color: var(--fill-color);\n",
              "    }\n",
              "  }\n",
              "</style>\n",
              "\n",
              "  <script>\n",
              "    async function quickchart(key) {\n",
              "      const quickchartButtonEl =\n",
              "        document.querySelector('#' + key + ' button');\n",
              "      quickchartButtonEl.disabled = true;  // To prevent multiple clicks.\n",
              "      quickchartButtonEl.classList.add('colab-df-spinner');\n",
              "      try {\n",
              "        const charts = await google.colab.kernel.invokeFunction(\n",
              "            'suggestCharts', [key], {});\n",
              "      } catch (error) {\n",
              "        console.error('Error during call to suggestCharts:', error);\n",
              "      }\n",
              "      quickchartButtonEl.classList.remove('colab-df-spinner');\n",
              "      quickchartButtonEl.classList.add('colab-df-quickchart-complete');\n",
              "    }\n",
              "    (() => {\n",
              "      let quickchartButtonEl =\n",
              "        document.querySelector('#df-ca48570c-fa1e-4c9a-82c3-22598c77027a button');\n",
              "      quickchartButtonEl.style.display =\n",
              "        google.colab.kernel.accessAllowed ? 'block' : 'none';\n",
              "    })();\n",
              "  </script>\n",
              "</div>\n",
              "\n",
              "    </div>\n",
              "  </div>\n"
            ],
            "application/vnd.google.colaboratory.intrinsic+json": {
              "type": "dataframe",
              "variable_name": "df",
              "summary": "{\n  \"name\": \"df\",\n  \"rows\": 489,\n  \"fields\": [\n    {\n      \"column\": \"RM\",\n      \"properties\": {\n        \"dtype\": \"number\",\n        \"std\": 0.6436497627572433,\n        \"min\": 3.561,\n        \"max\": 8.398,\n        \"num_unique_values\": 430,\n        \"samples\": [\n          5.67,\n          6.232,\n          6.8\n        ],\n        \"semantic_type\": \"\",\n        \"description\": \"\"\n      }\n    },\n    {\n      \"column\": \"LSTAT\",\n      \"properties\": {\n        \"dtype\": \"number\",\n        \"std\": 7.081989789065133,\n        \"min\": 1.98,\n        \"max\": 37.97,\n        \"num_unique_values\": 442,\n        \"samples\": [\n          12.73,\n          4.14,\n          5.52\n        ],\n        \"semantic_type\": \"\",\n        \"description\": \"\"\n      }\n    },\n    {\n      \"column\": \"PTRATIO\",\n      \"properties\": {\n        \"dtype\": \"number\",\n        \"std\": 2.111267502630989,\n        \"min\": 12.6,\n        \"max\": 22.0,\n        \"num_unique_values\": 44,\n        \"samples\": [\n          19.6,\n          16.6,\n          15.6\n        ],\n        \"semantic_type\": \"\",\n        \"description\": \"\"\n      }\n    },\n    {\n      \"column\": \"MEDV\",\n      \"properties\": {\n        \"dtype\": \"number\",\n        \"std\": 165340.27765266784,\n        \"min\": 105000.0,\n        \"max\": 1024800.0,\n        \"num_unique_values\": 228,\n        \"samples\": [\n          296100.0,\n          472500.0,\n          396900.0\n        ],\n        \"semantic_type\": \"\",\n        \"description\": \"\"\n      }\n    }\n  ]\n}"
            }
          },
          "metadata": {},
          "execution_count": 3
        }
      ]
    },
    {
      "cell_type": "code",
      "source": [
        "df.isnull().sum()"
      ],
      "metadata": {
        "colab": {
          "base_uri": "https://localhost:8080/"
        },
        "id": "KjyE9KoNdXY7",
        "outputId": "e20ef261-7d30-43a5-95a0-067b96da108f"
      },
      "execution_count": 4,
      "outputs": [
        {
          "output_type": "execute_result",
          "data": {
            "text/plain": [
              "RM         0\n",
              "LSTAT      0\n",
              "PTRATIO    0\n",
              "MEDV       0\n",
              "dtype: int64"
            ]
          },
          "metadata": {},
          "execution_count": 4
        }
      ]
    },
    {
      "cell_type": "code",
      "source": [
        "df.mean()"
      ],
      "metadata": {
        "colab": {
          "base_uri": "https://localhost:8080/"
        },
        "id": "KJaJwYgRdXau",
        "outputId": "41a60a09-6e45-4191-dbd9-172769e9ef93"
      },
      "execution_count": 5,
      "outputs": [
        {
          "output_type": "execute_result",
          "data": {
            "text/plain": [
              "RM              6.240288\n",
              "LSTAT          12.939632\n",
              "PTRATIO        18.516564\n",
              "MEDV       454342.944785\n",
              "dtype: float64"
            ]
          },
          "metadata": {},
          "execution_count": 5
        }
      ]
    },
    {
      "cell_type": "code",
      "source": [
        "df.fillna(df.mean(),inplace=True)"
      ],
      "metadata": {
        "id": "-jyEQaKJdXcw"
      },
      "execution_count": 6,
      "outputs": []
    },
    {
      "cell_type": "code",
      "source": [
        "x = df.drop('MEDV',axis=1)\n",
        "y=df['MEDV']"
      ],
      "metadata": {
        "id": "6jwrakAxdXfM"
      },
      "execution_count": 7,
      "outputs": []
    },
    {
      "cell_type": "code",
      "source": [
        "from sklearn.model_selection import train_test_split\n",
        "from sklearn.preprocessing import MinMaxScaler\n",
        "x_train,x_test,y_train,y_test = train_test_split(x,y,test_size=0.3)\n",
        "scale = MinMaxScaler()\n",
        "x_train_scaled = scale.fit_transform(x_train)\n",
        "x_test_scaled = scale.fit_transform(x_test)\n",
        "print(\"shape of scaled x train:\",x_train_scaled.shape)\n",
        "print(\"shape of scaled x test:\",x_test_scaled.shape)"
      ],
      "metadata": {
        "colab": {
          "base_uri": "https://localhost:8080/"
        },
        "id": "bBe0GRP5dXim",
        "outputId": "1f157a30-fa55-412c-c9ae-e73df63f3dc2"
      },
      "execution_count": 8,
      "outputs": [
        {
          "output_type": "stream",
          "name": "stdout",
          "text": [
            "shape of scaled x train: (342, 3)\n",
            "shape of scaled x test: (147, 3)\n"
          ]
        }
      ]
    },
    {
      "cell_type": "code",
      "source": [
        "x_train_scaled[0]"
      ],
      "metadata": {
        "colab": {
          "base_uri": "https://localhost:8080/"
        },
        "id": "hzbTF4fmdiS9",
        "outputId": "a83241f2-233b-4550-aa9d-3533e8307334"
      },
      "execution_count": 9,
      "outputs": [
        {
          "output_type": "execute_result",
          "data": {
            "text/plain": [
              "array([0.4890849 , 0.35439003, 0.80851064])"
            ]
          },
          "metadata": {},
          "execution_count": 9
        }
      ]
    },
    {
      "cell_type": "code",
      "source": [
        "x_train_scaled[0].shape"
      ],
      "metadata": {
        "colab": {
          "base_uri": "https://localhost:8080/"
        },
        "id": "_S1jWccudiUp",
        "outputId": "a1732bfd-7b9e-4ca1-d67e-657fea9a1c6d"
      },
      "execution_count": 10,
      "outputs": [
        {
          "output_type": "execute_result",
          "data": {
            "text/plain": [
              "(3,)"
            ]
          },
          "metadata": {},
          "execution_count": 10
        }
      ]
    },
    {
      "cell_type": "code",
      "source": [
        "from tensorflow.keras.models import Sequential\n",
        "from tensorflow.keras.layers import *\n",
        "\n",
        "\n",
        "model=Sequential()\n",
        "model.add(Dense(128,activation='relu',input_shape=(x_train_scaled[0].shape)))\n",
        "model.add(Dense(64,activation='relu'))\n",
        "model.add(Dense(32,activation='relu'))\n",
        "model.add(Dense(16,activation='relu'))\n",
        "model.add(Dense(1))\n",
        "model.compile(optimizer='adam',loss='mse',metrics=['mae'])"
      ],
      "metadata": {
        "id": "WFObrVb5diX7"
      },
      "execution_count": 11,
      "outputs": []
    },
    {
      "cell_type": "code",
      "source": [
        "history=model.fit(x=x_train_scaled,y=y_train,batch_size=1,verbose=1,epochs=100,validation_data=(x_test_scaled,y_test))"
      ],
      "metadata": {
        "colab": {
          "base_uri": "https://localhost:8080/"
        },
        "id": "hsSAciAQdskY",
        "outputId": "04bd8bd2-d299-4b1a-ebab-9ba9521c3416"
      },
      "execution_count": 12,
      "outputs": [
        {
          "output_type": "stream",
          "name": "stdout",
          "text": [
            "Epoch 1/100\n",
            "342/342 [==============================] - 2s 4ms/step - loss: 205997457408.0000 - mae: 422468.8125 - val_loss: 112563077120.0000 - val_mae: 279881.7812\n",
            "Epoch 2/100\n",
            "342/342 [==============================] - 1s 3ms/step - loss: 42795683840.0000 - mae: 161539.6562 - val_loss: 43476254720.0000 - val_mae: 165569.7344\n",
            "Epoch 3/100\n",
            "342/342 [==============================] - 1s 3ms/step - loss: 32507774976.0000 - mae: 134481.1562 - val_loss: 39423086592.0000 - val_mae: 157336.0312\n",
            "Epoch 4/100\n",
            "342/342 [==============================] - 1s 3ms/step - loss: 29637175296.0000 - mae: 128972.3516 - val_loss: 35669479424.0000 - val_mae: 149179.1250\n",
            "Epoch 5/100\n",
            "342/342 [==============================] - 1s 3ms/step - loss: 26744320000.0000 - mae: 121580.2656 - val_loss: 32486197248.0000 - val_mae: 143360.7812\n",
            "Epoch 6/100\n",
            "342/342 [==============================] - 1s 4ms/step - loss: 24154099712.0000 - mae: 115202.7031 - val_loss: 28788168704.0000 - val_mae: 132288.6562\n",
            "Epoch 7/100\n",
            "342/342 [==============================] - 1s 4ms/step - loss: 21615792128.0000 - mae: 107858.6875 - val_loss: 25436221440.0000 - val_mae: 124405.1172\n",
            "Epoch 8/100\n",
            "342/342 [==============================] - 1s 4ms/step - loss: 19330316288.0000 - mae: 101817.2734 - val_loss: 22897440768.0000 - val_mae: 119688.3516\n",
            "Epoch 9/100\n",
            "342/342 [==============================] - 1s 3ms/step - loss: 16925123584.0000 - mae: 94651.5234 - val_loss: 19383140352.0000 - val_mae: 108655.6016\n",
            "Epoch 10/100\n",
            "342/342 [==============================] - 1s 3ms/step - loss: 14439173120.0000 - mae: 86677.5000 - val_loss: 16547979264.0000 - val_mae: 99598.5078\n",
            "Epoch 11/100\n",
            "342/342 [==============================] - 1s 3ms/step - loss: 12614630400.0000 - mae: 81363.4297 - val_loss: 14300575744.0000 - val_mae: 93073.1719\n",
            "Epoch 12/100\n",
            "342/342 [==============================] - 1s 3ms/step - loss: 10795482112.0000 - mae: 75404.0938 - val_loss: 12256707584.0000 - val_mae: 85332.6250\n",
            "Epoch 13/100\n",
            "342/342 [==============================] - 1s 3ms/step - loss: 9464278016.0000 - mae: 70935.6719 - val_loss: 11745302528.0000 - val_mae: 84269.0938\n",
            "Epoch 14/100\n",
            "342/342 [==============================] - 1s 3ms/step - loss: 8432852992.0000 - mae: 67362.3125 - val_loss: 10535922688.0000 - val_mae: 79225.7031\n",
            "Epoch 15/100\n",
            "342/342 [==============================] - 1s 3ms/step - loss: 7870159872.0000 - mae: 65392.0977 - val_loss: 9865980928.0000 - val_mae: 76169.6484\n",
            "Epoch 16/100\n",
            "342/342 [==============================] - 1s 3ms/step - loss: 7391541248.0000 - mae: 63476.4453 - val_loss: 9016517632.0000 - val_mae: 71074.0391\n",
            "Epoch 17/100\n",
            "342/342 [==============================] - 1s 3ms/step - loss: 7196019200.0000 - mae: 62164.1758 - val_loss: 10476524544.0000 - val_mae: 79033.4766\n",
            "Epoch 18/100\n",
            "342/342 [==============================] - 2s 5ms/step - loss: 7212531200.0000 - mae: 63449.7070 - val_loss: 8950047744.0000 - val_mae: 71367.7969\n",
            "Epoch 19/100\n",
            "342/342 [==============================] - 1s 4ms/step - loss: 7013912576.0000 - mae: 62377.3555 - val_loss: 8985182208.0000 - val_mae: 71718.3828\n",
            "Epoch 20/100\n",
            "342/342 [==============================] - 1s 3ms/step - loss: 6944786944.0000 - mae: 61510.9648 - val_loss: 9109490688.0000 - val_mae: 72648.2969\n",
            "Epoch 21/100\n",
            "342/342 [==============================] - 1s 3ms/step - loss: 6943810560.0000 - mae: 61885.1562 - val_loss: 8790286336.0000 - val_mae: 70886.7500\n",
            "Epoch 22/100\n",
            "342/342 [==============================] - 1s 3ms/step - loss: 6901505024.0000 - mae: 61644.1562 - val_loss: 8477630976.0000 - val_mae: 68551.2891\n",
            "Epoch 23/100\n",
            "342/342 [==============================] - 1s 3ms/step - loss: 6771169792.0000 - mae: 61415.8828 - val_loss: 9291810816.0000 - val_mae: 74326.0312\n",
            "Epoch 24/100\n",
            "342/342 [==============================] - 1s 3ms/step - loss: 6881642496.0000 - mae: 62213.7734 - val_loss: 8579255296.0000 - val_mae: 70079.2500\n",
            "Epoch 25/100\n",
            "342/342 [==============================] - 1s 3ms/step - loss: 6704672256.0000 - mae: 61405.3047 - val_loss: 8930580480.0000 - val_mae: 72700.9219\n",
            "Epoch 26/100\n",
            "342/342 [==============================] - 1s 3ms/step - loss: 6710465024.0000 - mae: 61521.4375 - val_loss: 8377482240.0000 - val_mae: 69095.1641\n",
            "Epoch 27/100\n",
            "342/342 [==============================] - 1s 2ms/step - loss: 6623190016.0000 - mae: 60843.4727 - val_loss: 8644781056.0000 - val_mae: 71397.6484\n",
            "Epoch 28/100\n",
            "342/342 [==============================] - 1s 3ms/step - loss: 6680709120.0000 - mae: 61632.2812 - val_loss: 9213010944.0000 - val_mae: 74804.4219\n",
            "Epoch 29/100\n",
            "342/342 [==============================] - 1s 3ms/step - loss: 6629848576.0000 - mae: 61228.7266 - val_loss: 8761012224.0000 - val_mae: 72369.3203\n",
            "Epoch 30/100\n",
            "342/342 [==============================] - 1s 4ms/step - loss: 6367975936.0000 - mae: 60264.4258 - val_loss: 10674805760.0000 - val_mae: 81983.7734\n",
            "Epoch 31/100\n",
            "342/342 [==============================] - 2s 4ms/step - loss: 6587930112.0000 - mae: 62009.3203 - val_loss: 8133953024.0000 - val_mae: 67993.1875\n",
            "Epoch 32/100\n",
            "342/342 [==============================] - 1s 3ms/step - loss: 6518603264.0000 - mae: 61078.6211 - val_loss: 9463546880.0000 - val_mae: 76458.4062\n",
            "Epoch 33/100\n",
            "342/342 [==============================] - 1s 3ms/step - loss: 6481278976.0000 - mae: 60396.3516 - val_loss: 8109079552.0000 - val_mae: 68143.6406\n",
            "Epoch 34/100\n",
            "342/342 [==============================] - 1s 3ms/step - loss: 6418664960.0000 - mae: 60175.5781 - val_loss: 8628887552.0000 - val_mae: 72089.9766\n",
            "Epoch 35/100\n",
            "342/342 [==============================] - 1s 3ms/step - loss: 6322219008.0000 - mae: 59574.3398 - val_loss: 7842688000.0000 - val_mae: 65233.0391\n",
            "Epoch 36/100\n",
            "342/342 [==============================] - 1s 3ms/step - loss: 6455542784.0000 - mae: 60282.1523 - val_loss: 8395437056.0000 - val_mae: 70865.4844\n",
            "Epoch 37/100\n",
            "342/342 [==============================] - 1s 3ms/step - loss: 6410648576.0000 - mae: 60283.8906 - val_loss: 7978323968.0000 - val_mae: 67741.1797\n",
            "Epoch 38/100\n",
            "342/342 [==============================] - 1s 3ms/step - loss: 6415138304.0000 - mae: 60560.3750 - val_loss: 8126672896.0000 - val_mae: 69194.3828\n",
            "Epoch 39/100\n",
            "342/342 [==============================] - 1s 3ms/step - loss: 6315645952.0000 - mae: 59929.6484 - val_loss: 7929762304.0000 - val_mae: 67635.3359\n",
            "Epoch 40/100\n",
            "342/342 [==============================] - 1s 3ms/step - loss: 6172777984.0000 - mae: 58970.1641 - val_loss: 7708189184.0000 - val_mae: 64659.3320\n",
            "Epoch 41/100\n",
            "342/342 [==============================] - 1s 3ms/step - loss: 6282878976.0000 - mae: 59705.7422 - val_loss: 7759883264.0000 - val_mae: 66297.3828\n",
            "Epoch 42/100\n",
            "342/342 [==============================] - 1s 4ms/step - loss: 6180156416.0000 - mae: 59080.6914 - val_loss: 8759642112.0000 - val_mae: 73421.5625\n",
            "Epoch 43/100\n",
            "342/342 [==============================] - 2s 4ms/step - loss: 6259670528.0000 - mae: 59305.5156 - val_loss: 7947169792.0000 - val_mae: 68361.7109\n",
            "Epoch 44/100\n",
            "342/342 [==============================] - 1s 3ms/step - loss: 6050914816.0000 - mae: 59213.1328 - val_loss: 7648486400.0000 - val_mae: 65667.9062\n",
            "Epoch 45/100\n",
            "342/342 [==============================] - 1s 3ms/step - loss: 6100366336.0000 - mae: 58848.0352 - val_loss: 7551557120.0000 - val_mae: 64243.4766\n",
            "Epoch 46/100\n",
            "342/342 [==============================] - 1s 3ms/step - loss: 6237438976.0000 - mae: 59145.0234 - val_loss: 8262832128.0000 - val_mae: 70798.1562\n",
            "Epoch 47/100\n",
            "342/342 [==============================] - 1s 3ms/step - loss: 6159725056.0000 - mae: 59361.6250 - val_loss: 7754366464.0000 - val_mae: 67346.2344\n",
            "Epoch 48/100\n",
            "342/342 [==============================] - 1s 3ms/step - loss: 6087934976.0000 - mae: 59172.2852 - val_loss: 7602570240.0000 - val_mae: 65994.8359\n",
            "Epoch 49/100\n",
            "342/342 [==============================] - 1s 3ms/step - loss: 6095424512.0000 - mae: 59079.8906 - val_loss: 7449149952.0000 - val_mae: 63931.8086\n",
            "Epoch 50/100\n",
            "342/342 [==============================] - 1s 3ms/step - loss: 5999239168.0000 - mae: 58561.7656 - val_loss: 7543134720.0000 - val_mae: 65601.9531\n",
            "Epoch 51/100\n",
            "342/342 [==============================] - 1s 3ms/step - loss: 6085855232.0000 - mae: 59300.0352 - val_loss: 7605647360.0000 - val_mae: 66653.5703\n",
            "Epoch 52/100\n",
            "342/342 [==============================] - 1s 3ms/step - loss: 6092613120.0000 - mae: 59135.2031 - val_loss: 7942909952.0000 - val_mae: 69341.7891\n",
            "Epoch 53/100\n",
            "342/342 [==============================] - 1s 3ms/step - loss: 6014014464.0000 - mae: 58882.4688 - val_loss: 7552040448.0000 - val_mae: 66521.9766\n",
            "Epoch 54/100\n",
            "342/342 [==============================] - 2s 5ms/step - loss: 6008696832.0000 - mae: 58452.3164 - val_loss: 7712058880.0000 - val_mae: 67900.4688\n",
            "Epoch 55/100\n",
            "342/342 [==============================] - 2s 7ms/step - loss: 5985751552.0000 - mae: 58546.9766 - val_loss: 7399617536.0000 - val_mae: 65279.7422\n",
            "Epoch 56/100\n",
            "342/342 [==============================] - 1s 3ms/step - loss: 6021706240.0000 - mae: 59153.6250 - val_loss: 7331210752.0000 - val_mae: 64598.5586\n",
            "Epoch 57/100\n",
            "342/342 [==============================] - 1s 3ms/step - loss: 5916249600.0000 - mae: 57993.7969 - val_loss: 7616481792.0000 - val_mae: 67377.6016\n",
            "Epoch 58/100\n",
            "342/342 [==============================] - 1s 3ms/step - loss: 5953059840.0000 - mae: 57847.4922 - val_loss: 7660619776.0000 - val_mae: 67694.0781\n",
            "Epoch 59/100\n",
            "342/342 [==============================] - 1s 3ms/step - loss: 5837153792.0000 - mae: 58130.2695 - val_loss: 7203240448.0000 - val_mae: 63156.4141\n",
            "Epoch 60/100\n",
            "342/342 [==============================] - 1s 3ms/step - loss: 5970130944.0000 - mae: 58321.5977 - val_loss: 7254176768.0000 - val_mae: 64355.1016\n",
            "Epoch 61/100\n",
            "342/342 [==============================] - 1s 3ms/step - loss: 5829932544.0000 - mae: 57120.4102 - val_loss: 7661768192.0000 - val_mae: 67922.3906\n",
            "Epoch 62/100\n",
            "342/342 [==============================] - 1s 3ms/step - loss: 5840124928.0000 - mae: 57705.4023 - val_loss: 7758004736.0000 - val_mae: 68743.8672\n",
            "Epoch 63/100\n",
            "342/342 [==============================] - 1s 3ms/step - loss: 5842302464.0000 - mae: 57737.9141 - val_loss: 7282545152.0000 - val_mae: 64896.4961\n",
            "Epoch 64/100\n",
            "342/342 [==============================] - 1s 3ms/step - loss: 5864148992.0000 - mae: 57747.4219 - val_loss: 7177449472.0000 - val_mae: 63953.7617\n",
            "Epoch 65/100\n",
            "342/342 [==============================] - 2s 5ms/step - loss: 5851525120.0000 - mae: 57712.5391 - val_loss: 7356003328.0000 - val_mae: 65696.7969\n",
            "Epoch 66/100\n",
            "342/342 [==============================] - 1s 4ms/step - loss: 5843871232.0000 - mae: 57827.0000 - val_loss: 7664564736.0000 - val_mae: 68226.5156\n",
            "Epoch 67/100\n",
            "342/342 [==============================] - 1s 3ms/step - loss: 5742173184.0000 - mae: 57150.0977 - val_loss: 7174432256.0000 - val_mae: 64202.5508\n",
            "Epoch 68/100\n",
            "342/342 [==============================] - 1s 3ms/step - loss: 5776078848.0000 - mae: 57426.5273 - val_loss: 7013626368.0000 - val_mae: 62310.8711\n",
            "Epoch 69/100\n",
            "342/342 [==============================] - 1s 3ms/step - loss: 5802002432.0000 - mae: 57692.5312 - val_loss: 7289475584.0000 - val_mae: 65576.3594\n",
            "Epoch 70/100\n",
            "342/342 [==============================] - 1s 3ms/step - loss: 5775635968.0000 - mae: 57541.5039 - val_loss: 7308166144.0000 - val_mae: 65893.3203\n",
            "Epoch 71/100\n",
            "342/342 [==============================] - 1s 3ms/step - loss: 5782308864.0000 - mae: 57566.9844 - val_loss: 7081500672.0000 - val_mae: 64017.7773\n",
            "Epoch 72/100\n",
            "342/342 [==============================] - 1s 3ms/step - loss: 5760078848.0000 - mae: 57369.2578 - val_loss: 7395271680.0000 - val_mae: 66690.3750\n",
            "Epoch 73/100\n",
            "342/342 [==============================] - 1s 3ms/step - loss: 5676275712.0000 - mae: 57415.6016 - val_loss: 6914818048.0000 - val_mae: 62004.3047\n",
            "Epoch 74/100\n",
            "342/342 [==============================] - 1s 3ms/step - loss: 5675151872.0000 - mae: 56793.2461 - val_loss: 7450919424.0000 - val_mae: 67364.6406\n",
            "Epoch 75/100\n",
            "342/342 [==============================] - 1s 3ms/step - loss: 5665583616.0000 - mae: 56710.9883 - val_loss: 7567415296.0000 - val_mae: 68380.9453\n",
            "Epoch 76/100\n",
            "342/342 [==============================] - 1s 4ms/step - loss: 5687698432.0000 - mae: 56829.7773 - val_loss: 7360098816.0000 - val_mae: 66534.8125\n",
            "Epoch 77/100\n",
            "342/342 [==============================] - 2s 4ms/step - loss: 5640028672.0000 - mae: 56840.2383 - val_loss: 8149257216.0000 - val_mae: 72547.5156\n",
            "Epoch 78/100\n",
            "342/342 [==============================] - 1s 3ms/step - loss: 5693199360.0000 - mae: 57361.3672 - val_loss: 7023118336.0000 - val_mae: 63894.4414\n",
            "Epoch 79/100\n",
            "342/342 [==============================] - 1s 3ms/step - loss: 5650733568.0000 - mae: 56726.3438 - val_loss: 7281392128.0000 - val_mae: 66412.7578\n",
            "Epoch 80/100\n",
            "342/342 [==============================] - 1s 3ms/step - loss: 5494073856.0000 - mae: 55881.2148 - val_loss: 7591750656.0000 - val_mae: 68979.8594\n",
            "Epoch 81/100\n",
            "342/342 [==============================] - 1s 3ms/step - loss: 5566761472.0000 - mae: 56344.4609 - val_loss: 6885670400.0000 - val_mae: 63036.4570\n",
            "Epoch 82/100\n",
            "342/342 [==============================] - 1s 3ms/step - loss: 5548435456.0000 - mae: 56201.6953 - val_loss: 7877003776.0000 - val_mae: 71139.0391\n",
            "Epoch 83/100\n",
            "342/342 [==============================] - 1s 3ms/step - loss: 5578783232.0000 - mae: 57021.0039 - val_loss: 6804504576.0000 - val_mae: 62484.1211\n",
            "Epoch 84/100\n",
            "342/342 [==============================] - 1s 3ms/step - loss: 5594954240.0000 - mae: 56492.7617 - val_loss: 7276819456.0000 - val_mae: 67065.0156\n",
            "Epoch 85/100\n",
            "342/342 [==============================] - 1s 3ms/step - loss: 5577495040.0000 - mae: 56325.3672 - val_loss: 6711024640.0000 - val_mae: 61585.4883\n",
            "Epoch 86/100\n",
            "342/342 [==============================] - 1s 3ms/step - loss: 5562262528.0000 - mae: 56460.6445 - val_loss: 7081346048.0000 - val_mae: 65419.6992\n",
            "Epoch 87/100\n",
            "342/342 [==============================] - 1s 3ms/step - loss: 5509466624.0000 - mae: 55827.3398 - val_loss: 7962038272.0000 - val_mae: 71986.4062\n",
            "Epoch 88/100\n",
            "342/342 [==============================] - 1s 4ms/step - loss: 5488757248.0000 - mae: 55980.6484 - val_loss: 7192705536.0000 - val_mae: 66593.3984\n",
            "Epoch 89/100\n",
            "342/342 [==============================] - 1s 4ms/step - loss: 5486660096.0000 - mae: 55912.3789 - val_loss: 7170041856.0000 - val_mae: 66525.9688\n",
            "Epoch 90/100\n",
            "342/342 [==============================] - 1s 3ms/step - loss: 5509162496.0000 - mae: 56009.1055 - val_loss: 6780559872.0000 - val_mae: 63040.3672\n",
            "Epoch 91/100\n",
            "342/342 [==============================] - 1s 3ms/step - loss: 5480547328.0000 - mae: 55399.3516 - val_loss: 6863175680.0000 - val_mae: 63854.0547\n",
            "Epoch 92/100\n",
            "342/342 [==============================] - 1s 3ms/step - loss: 5401663488.0000 - mae: 55261.4609 - val_loss: 6588361728.0000 - val_mae: 60913.5938\n",
            "Epoch 93/100\n",
            "342/342 [==============================] - 1s 3ms/step - loss: 5469218816.0000 - mae: 55769.3633 - val_loss: 6972139008.0000 - val_mae: 65249.7266\n",
            "Epoch 94/100\n",
            "342/342 [==============================] - 1s 3ms/step - loss: 5513081344.0000 - mae: 56097.9023 - val_loss: 7144668160.0000 - val_mae: 66947.5469\n",
            "Epoch 95/100\n",
            "342/342 [==============================] - 1s 3ms/step - loss: 5401879040.0000 - mae: 55298.8125 - val_loss: 6607246336.0000 - val_mae: 61751.8711\n",
            "Epoch 96/100\n",
            "342/342 [==============================] - 1s 3ms/step - loss: 5402685440.0000 - mae: 54856.8125 - val_loss: 6577344000.0000 - val_mae: 61329.2656\n",
            "Epoch 97/100\n",
            "342/342 [==============================] - 1s 3ms/step - loss: 5411291648.0000 - mae: 55638.6016 - val_loss: 6750861824.0000 - val_mae: 63391.0664\n",
            "Epoch 98/100\n",
            "342/342 [==============================] - 1s 3ms/step - loss: 5397842432.0000 - mae: 55132.6602 - val_loss: 6669674496.0000 - val_mae: 62857.5156\n",
            "Epoch 99/100\n",
            "342/342 [==============================] - 1s 3ms/step - loss: 5384534528.0000 - mae: 54997.1641 - val_loss: 6548612096.0000 - val_mae: 61704.5781\n",
            "Epoch 100/100\n",
            "342/342 [==============================] - 1s 4ms/step - loss: 5323058688.0000 - mae: 54735.1875 - val_loss: 6635236352.0000 - val_mae: 62599.0625\n"
          ]
        }
      ]
    },
    {
      "cell_type": "code",
      "source": [
        "test_input = [[0.00154995, 0.        , 0.28962963, 0.        , 0.27777778,\n",
        "       0.56936665, 0.70442842, 0.15699879, 0.17391304, 0.3759542 ,\n",
        "       0.88297872, 0.99665297, 0.16851064]]\n",
        "print(\"actual output:\",24.0)\n",
        "print(\"predicted output:\",model.predict(test_input))"
      ],
      "metadata": {
        "colab": {
          "base_uri": "https://localhost:8080/",
          "height": 633
        },
        "id": "iA3BrrJTdvQF",
        "outputId": "616d10bd-7ffd-462e-aed7-463c3ae204a3"
      },
      "execution_count": 13,
      "outputs": [
        {
          "output_type": "stream",
          "name": "stdout",
          "text": [
            "actual output: 24.0\n"
          ]
        },
        {
          "output_type": "error",
          "ename": "ValueError",
          "evalue": "in user code:\n\n    File \"/usr/local/lib/python3.10/dist-packages/keras/src/engine/training.py\", line 2440, in predict_function  *\n        return step_function(self, iterator)\n    File \"/usr/local/lib/python3.10/dist-packages/keras/src/engine/training.py\", line 2425, in step_function  **\n        outputs = model.distribute_strategy.run(run_step, args=(data,))\n    File \"/usr/local/lib/python3.10/dist-packages/keras/src/engine/training.py\", line 2413, in run_step  **\n        outputs = model.predict_step(data)\n    File \"/usr/local/lib/python3.10/dist-packages/keras/src/engine/training.py\", line 2381, in predict_step\n        return self(x, training=False)\n    File \"/usr/local/lib/python3.10/dist-packages/keras/src/utils/traceback_utils.py\", line 70, in error_handler\n        raise e.with_traceback(filtered_tb) from None\n    File \"/usr/local/lib/python3.10/dist-packages/keras/src/engine/input_spec.py\", line 298, in assert_input_compatibility\n        raise ValueError(\n\n    ValueError: Input 0 of layer \"sequential\" is incompatible with the layer: expected shape=(None, 3), found shape=(None, 13)\n",
          "traceback": [
            "\u001b[0;31m---------------------------------------------------------------------------\u001b[0m",
            "\u001b[0;31mValueError\u001b[0m                                Traceback (most recent call last)",
            "\u001b[0;32m<ipython-input-13-c346168cf94d>\u001b[0m in \u001b[0;36m<cell line: 5>\u001b[0;34m()\u001b[0m\n\u001b[1;32m      3\u001b[0m        0.88297872, 0.99665297, 0.16851064]]\n\u001b[1;32m      4\u001b[0m \u001b[0mprint\u001b[0m\u001b[0;34m(\u001b[0m\u001b[0;34m\"actual output:\"\u001b[0m\u001b[0;34m,\u001b[0m\u001b[0;36m24.0\u001b[0m\u001b[0;34m)\u001b[0m\u001b[0;34m\u001b[0m\u001b[0;34m\u001b[0m\u001b[0m\n\u001b[0;32m----> 5\u001b[0;31m \u001b[0mprint\u001b[0m\u001b[0;34m(\u001b[0m\u001b[0;34m\"predicted output:\"\u001b[0m\u001b[0;34m,\u001b[0m\u001b[0mmodel\u001b[0m\u001b[0;34m.\u001b[0m\u001b[0mpredict\u001b[0m\u001b[0;34m(\u001b[0m\u001b[0mtest_input\u001b[0m\u001b[0;34m)\u001b[0m\u001b[0;34m)\u001b[0m\u001b[0;34m\u001b[0m\u001b[0;34m\u001b[0m\u001b[0m\n\u001b[0m",
            "\u001b[0;32m/usr/local/lib/python3.10/dist-packages/keras/src/utils/traceback_utils.py\u001b[0m in \u001b[0;36merror_handler\u001b[0;34m(*args, **kwargs)\u001b[0m\n\u001b[1;32m     68\u001b[0m             \u001b[0;31m# To get the full stack trace, call:\u001b[0m\u001b[0;34m\u001b[0m\u001b[0;34m\u001b[0m\u001b[0m\n\u001b[1;32m     69\u001b[0m             \u001b[0;31m# `tf.debugging.disable_traceback_filtering()`\u001b[0m\u001b[0;34m\u001b[0m\u001b[0;34m\u001b[0m\u001b[0m\n\u001b[0;32m---> 70\u001b[0;31m             \u001b[0;32mraise\u001b[0m \u001b[0me\u001b[0m\u001b[0;34m.\u001b[0m\u001b[0mwith_traceback\u001b[0m\u001b[0;34m(\u001b[0m\u001b[0mfiltered_tb\u001b[0m\u001b[0;34m)\u001b[0m \u001b[0;32mfrom\u001b[0m \u001b[0;32mNone\u001b[0m\u001b[0;34m\u001b[0m\u001b[0;34m\u001b[0m\u001b[0m\n\u001b[0m\u001b[1;32m     71\u001b[0m         \u001b[0;32mfinally\u001b[0m\u001b[0;34m:\u001b[0m\u001b[0;34m\u001b[0m\u001b[0;34m\u001b[0m\u001b[0m\n\u001b[1;32m     72\u001b[0m             \u001b[0;32mdel\u001b[0m \u001b[0mfiltered_tb\u001b[0m\u001b[0;34m\u001b[0m\u001b[0;34m\u001b[0m\u001b[0m\n",
            "\u001b[0;32m/usr/local/lib/python3.10/dist-packages/keras/src/engine/training.py\u001b[0m in \u001b[0;36mtf__predict_function\u001b[0;34m(iterator)\u001b[0m\n\u001b[1;32m     13\u001b[0m                 \u001b[0;32mtry\u001b[0m\u001b[0;34m:\u001b[0m\u001b[0;34m\u001b[0m\u001b[0;34m\u001b[0m\u001b[0m\n\u001b[1;32m     14\u001b[0m                     \u001b[0mdo_return\u001b[0m \u001b[0;34m=\u001b[0m \u001b[0;32mTrue\u001b[0m\u001b[0;34m\u001b[0m\u001b[0;34m\u001b[0m\u001b[0m\n\u001b[0;32m---> 15\u001b[0;31m                     \u001b[0mretval_\u001b[0m \u001b[0;34m=\u001b[0m \u001b[0mag__\u001b[0m\u001b[0;34m.\u001b[0m\u001b[0mconverted_call\u001b[0m\u001b[0;34m(\u001b[0m\u001b[0mag__\u001b[0m\u001b[0;34m.\u001b[0m\u001b[0mld\u001b[0m\u001b[0;34m(\u001b[0m\u001b[0mstep_function\u001b[0m\u001b[0;34m)\u001b[0m\u001b[0;34m,\u001b[0m \u001b[0;34m(\u001b[0m\u001b[0mag__\u001b[0m\u001b[0;34m.\u001b[0m\u001b[0mld\u001b[0m\u001b[0;34m(\u001b[0m\u001b[0mself\u001b[0m\u001b[0;34m)\u001b[0m\u001b[0;34m,\u001b[0m \u001b[0mag__\u001b[0m\u001b[0;34m.\u001b[0m\u001b[0mld\u001b[0m\u001b[0;34m(\u001b[0m\u001b[0miterator\u001b[0m\u001b[0;34m)\u001b[0m\u001b[0;34m)\u001b[0m\u001b[0;34m,\u001b[0m \u001b[0;32mNone\u001b[0m\u001b[0;34m,\u001b[0m \u001b[0mfscope\u001b[0m\u001b[0;34m)\u001b[0m\u001b[0;34m\u001b[0m\u001b[0;34m\u001b[0m\u001b[0m\n\u001b[0m\u001b[1;32m     16\u001b[0m                 \u001b[0;32mexcept\u001b[0m\u001b[0;34m:\u001b[0m\u001b[0;34m\u001b[0m\u001b[0;34m\u001b[0m\u001b[0m\n\u001b[1;32m     17\u001b[0m                     \u001b[0mdo_return\u001b[0m \u001b[0;34m=\u001b[0m \u001b[0;32mFalse\u001b[0m\u001b[0;34m\u001b[0m\u001b[0;34m\u001b[0m\u001b[0m\n",
            "\u001b[0;31mValueError\u001b[0m: in user code:\n\n    File \"/usr/local/lib/python3.10/dist-packages/keras/src/engine/training.py\", line 2440, in predict_function  *\n        return step_function(self, iterator)\n    File \"/usr/local/lib/python3.10/dist-packages/keras/src/engine/training.py\", line 2425, in step_function  **\n        outputs = model.distribute_strategy.run(run_step, args=(data,))\n    File \"/usr/local/lib/python3.10/dist-packages/keras/src/engine/training.py\", line 2413, in run_step  **\n        outputs = model.predict_step(data)\n    File \"/usr/local/lib/python3.10/dist-packages/keras/src/engine/training.py\", line 2381, in predict_step\n        return self(x, training=False)\n    File \"/usr/local/lib/python3.10/dist-packages/keras/src/utils/traceback_utils.py\", line 70, in error_handler\n        raise e.with_traceback(filtered_tb) from None\n    File \"/usr/local/lib/python3.10/dist-packages/keras/src/engine/input_spec.py\", line 298, in assert_input_compatibility\n        raise ValueError(\n\n    ValueError: Input 0 of layer \"sequential\" is incompatible with the layer: expected shape=(None, 3), found shape=(None, 13)\n"
          ]
        }
      ]
    },
    {
      "cell_type": "code",
      "source": [
        "import matplotlib.pyplot as plt\n",
        "\n",
        "# Plot training & validation loss values\n",
        "plt.plot(history.history['loss'])\n",
        "plt.plot(history.history['val_loss'])\n",
        "plt.title('Model Loss')\n",
        "plt.xlabel('Epoch')\n",
        "plt.ylabel('Loss')\n",
        "plt.legend(['Train', 'Validation'], loc='upper left')\n",
        "plt.show()"
      ],
      "metadata": {
        "colab": {
          "base_uri": "https://localhost:8080/",
          "height": 472
        },
        "id": "qF8TsnvOdvY_",
        "outputId": "31619814-f7e6-4945-cdc5-1714c8e41290"
      },
      "execution_count": 14,
      "outputs": [
        {
          "output_type": "display_data",
          "data": {
            "text/plain": [
              "<Figure size 640x480 with 1 Axes>"
            ],
            "image/png": "[encoded data removed]"
          },
          "metadata": {}
        }
      ]
    },
    {
      "cell_type": "code",
      "source": [],
      "metadata": {
        "id": "7tyI7yNXdvbz"
      },
      "execution_count": null,
      "outputs": []
    }
  ]
}