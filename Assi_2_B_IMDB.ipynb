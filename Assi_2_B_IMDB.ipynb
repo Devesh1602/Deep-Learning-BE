{
  "nbformat": 4,
  "nbformat_minor": 0,
  "metadata": {
    "colab": {
      "provenance": []
    },
    "kernelspec": {
      "name": "python3",
      "display_name": "Python 3"
    },
    "language_info": {
      "name": "python"
    }
  },
  "cells": [
    {
      "cell_type": "code",
      "execution_count": 1,
      "metadata": {
        "id": "bP_tIwTZ6Nx6"
      },
      "outputs": [],
      "source": [
        "import numpy as np\n",
        "from tensorflow.keras.datasets import imdb\n",
        "from tensorflow.keras.models import Sequential\n",
        "from tensorflow.keras.layers import Dense, LSTM, Embedding, SpatialDropout1D\n",
        "from tensorflow.keras.preprocessing.sequence import pad_sequences\n",
        "from tensorflow.keras.preprocessing.text import Tokenizer"
      ]
    },
    {
      "cell_type": "code",
      "source": [
        "# Load the IMDB dataset\n",
        "max_features = 5000\n",
        "maxlen = 100\n",
        "(X_train, y_train), (X_test, y_test) = imdb.load_data(num_words=max_features)"
      ],
      "metadata": {
        "colab": {
          "base_uri": "https://localhost:8080/"
        },
        "id": "v-zWQUCE6VPv",
        "outputId": "36ee14b6-5027-42cf-d5ee-1e0090a50596"
      },
      "execution_count": 2,
      "outputs": [
        {
          "output_type": "stream",
          "name": "stdout",
          "text": [
            "Downloading data from https://storage.googleapis.com/tensorflow/tf-keras-datasets/imdb.npz\n",
            "17464789/17464789 [==============================] - 0s 0us/step\n"
          ]
        }
      ]
    },
    {
      "cell_type": "code",
      "source": [
        "# Preprocess the data\n",
        "X_train = pad_sequences(X_train, maxlen=maxlen)\n",
        "X_test = pad_sequences(X_test, maxlen=maxlen)"
      ],
      "metadata": {
        "id": "Z1vdbnPs6VRW"
      },
      "execution_count": 3,
      "outputs": []
    },
    {
      "cell_type": "code",
      "source": [
        "# Convert sequences back into text\n",
        "reverse_word_index = dict([(value, key) for (key, value) in imdb.get_word_index().items()])\n",
        "def decode_review(text):\n",
        "    return ' '.join([reverse_word_index.get(i - 3, '?') for i in text])\n",
        "\n",
        "X_train_text = [decode_review(x) for x in X_train]\n",
        "X_test_text = [decode_review(x) for x in X_test]\n",
        "\n",
        "# Create and fit tokenizer\n",
        "tokenizer = Tokenizer(num_words=max_features)\n",
        "tokenizer.fit_on_texts(X_train_text)\n",
        "\n",
        "# Preprocess the data\n",
        "X_train = pad_sequences(tokenizer.texts_to_sequences(X_train_text), maxlen=maxlen)\n",
        "X_test = pad_sequences(tokenizer.texts_to_sequences(X_test_text), maxlen=maxlen)"
      ],
      "metadata": {
        "colab": {
          "base_uri": "https://localhost:8080/"
        },
        "id": "JfBESQ9x6VVT",
        "outputId": "ad480799-0570-4d7f-aa48-06c2f9c4d5c4"
      },
      "execution_count": 4,
      "outputs": [
        {
          "output_type": "stream",
          "name": "stdout",
          "text": [
            "Downloading data from https://storage.googleapis.com/tensorflow/tf-keras-datasets/imdb_word_index.json\n",
            "1641221/1641221 [==============================] - 0s 0us/step\n"
          ]
        }
      ]
    },
    {
      "cell_type": "code",
      "source": [
        "# Build the model\n",
        "model = Sequential()\n",
        "model.add(Embedding(max_features, 128, input_length=maxlen))\n",
        "# model.add(SpatialDropout1D(0.2))\n",
        "model.add(LSTM(64, dropout=0.2, recurrent_dropout=0.2))\n",
        "model.add(Dense(1, activation='sigmoid'))"
      ],
      "metadata": {
        "id": "M5ynqeTJ6VXT"
      },
      "execution_count": 5,
      "outputs": []
    },
    {
      "cell_type": "code",
      "source": [
        "model.compile(loss='binary_crossentropy', optimizer='adam', metrics=['accuracy'])"
      ],
      "metadata": {
        "id": "-JJRhQeK6VbT"
      },
      "execution_count": 6,
      "outputs": []
    },
    {
      "cell_type": "code",
      "source": [
        "model.fit(X_train, y_train, validation_data=(X_test, y_test), epochs=5, batch_size=32)"
      ],
      "metadata": {
        "colab": {
          "base_uri": "https://localhost:8080/"
        },
        "id": "pQZpSW2K6vbi",
        "outputId": "94b0e8a1-5abc-47d6-ce6b-c2bf0618f5ed"
      },
      "execution_count": 7,
      "outputs": [
        {
          "output_type": "stream",
          "name": "stdout",
          "text": [
            "Epoch 1/5\n",
            "782/782 [==============================] - 145s 179ms/step - loss: 0.4106 - accuracy: 0.8116 - val_loss: 0.3528 - val_accuracy: 0.8462\n",
            "Epoch 2/5\n",
            "782/782 [==============================] - 144s 184ms/step - loss: 0.2911 - accuracy: 0.8795 - val_loss: 0.3429 - val_accuracy: 0.8494\n",
            "Epoch 3/5\n",
            "782/782 [==============================] - 139s 177ms/step - loss: 0.2340 - accuracy: 0.9049 - val_loss: 0.3703 - val_accuracy: 0.8478\n",
            "Epoch 4/5\n",
            "782/782 [==============================] - 144s 185ms/step - loss: 0.1942 - accuracy: 0.9224 - val_loss: 0.4243 - val_accuracy: 0.8387\n",
            "Epoch 5/5\n",
            "782/782 [==============================] - 143s 183ms/step - loss: 0.1554 - accuracy: 0.9402 - val_loss: 0.4482 - val_accuracy: 0.8418\n"
          ]
        },
        {
          "output_type": "execute_result",
          "data": {
            "text/plain": [
              "<keras.src.callbacks.History at 0x7c411d7836d0>"
            ]
          },
          "metadata": {},
          "execution_count": 7
        }
      ]
    },
    {
      "cell_type": "code",
      "source": [
        "score, acc = model.evaluate(X_test, y_test, batch_size=32)\n",
        "print(\"Test accuracy:\", acc)"
      ],
      "metadata": {
        "colab": {
          "base_uri": "https://localhost:8080/"
        },
        "id": "wm5c4XZF6vdO",
        "outputId": "b828c8dd-c861-41de-944f-ae9c5cc67a68"
      },
      "execution_count": 8,
      "outputs": [
        {
          "output_type": "stream",
          "name": "stdout",
          "text": [
            "782/782 [==============================] - 17s 22ms/step - loss: 0.4482 - accuracy: 0.8418\n",
            "Test accuracy: 0.841759979724884\n"
          ]
        }
      ]
    },
    {
      "cell_type": "code",
      "source": [
        "from tensorflow.keras.preprocessing.sequence import pad_sequences\n",
        "def preprocess_input(user_input):\n",
        "    sequences = tokenizer.texts_to_sequences(user_input)\n",
        "    return pad_sequences(sequences, maxlen=maxlen)"
      ],
      "metadata": {
        "id": "-hf8AHsY6vgi"
      },
      "execution_count": 9,
      "outputs": []
    },
    {
      "cell_type": "code",
      "source": [
        "# Function to predict sentiment\n",
        "def predict_sentiment(review):\n",
        "    review = preprocess_input([review])\n",
        "    prediction = model.predict(review)[0][0]\n",
        "    if prediction >= 0.5:\n",
        "        return \"Positive\"\n",
        "    else:\n",
        "        return \"Negative\""
      ],
      "metadata": {
        "id": "HGO2yyzk62a3"
      },
      "execution_count": 10,
      "outputs": []
    },
    {
      "cell_type": "code",
      "source": [
        "user_review = input(\"Enter your movie review (or type 'quit' to exit): \")\n",
        "sentiment = predict_sentiment(user_review)\n",
        "print(\"Predicted sentiment:\", sentiment)"
      ],
      "metadata": {
        "colab": {
          "base_uri": "https://localhost:8080/"
        },
        "id": "5b6rdDH362dr",
        "outputId": "d729922a-db09-4026-a79f-3ed7a4c3ed62"
      },
      "execution_count": 11,
      "outputs": [
        {
          "output_type": "stream",
          "name": "stdout",
          "text": [
            "Enter your movie review (or type 'quit' to exit): 6\n",
            "1/1 [==============================] - 0s 273ms/step\n",
            "Predicted sentiment: Negative\n"
          ]
        }
      ]
    }
  ]
}