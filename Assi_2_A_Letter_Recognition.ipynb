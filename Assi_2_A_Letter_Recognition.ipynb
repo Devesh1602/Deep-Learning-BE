{
  "nbformat": 4,
  "nbformat_minor": 0,
  "metadata": {
    "colab": {
      "provenance": []
    },
    "kernelspec": {
      "name": "python3",
      "display_name": "Python 3"
    },
    "language_info": {
      "name": "python"
    }
  },
  "cells": [
    {
      "cell_type": "code",
      "execution_count": 1,
      "metadata": {
        "id": "FmBakg3nwjiC"
      },
      "outputs": [],
      "source": [
        "import tensorflow as tf\n",
        "from keras.models import Sequential\n",
        "from keras.layers import Dense\n",
        "from sklearn.model_selection import train_test_split\n",
        "from sklearn.preprocessing import LabelEncoder\n",
        "import pandas as pd"
      ]
    },
    {
      "cell_type": "code",
      "source": [
        "data_path = 'https://github.com/Sahil-Naik/BE-Programming/raw/main/LP-V(DL)/Assignment-2/Part-1/letter-recognition.data'\n",
        "columns = ['letter'] + [f'feature_{i}' for i in range(16)]\n",
        "df = pd.read_csv(data_path, names=columns)\n",
        "\n",
        "label_encoder = LabelEncoder()\n",
        "df['target'] = label_encoder.fit_transform(df['letter'])\n",
        "X = df.drop(['letter', 'target'], axis=1)\n",
        "y = df['target']\n",
        "\n",
        "# Split the dataset\n",
        "X_train, X_test, y_train, y_test = train_test_split(X, y, test_size=0.2, random_state=42)"
      ],
      "metadata": {
        "id": "8Y02Q2N3xdpf"
      },
      "execution_count": 2,
      "outputs": []
    },
    {
      "cell_type": "code",
      "source": [
        "# Build the deep neural network model\n",
        "model = Sequential()\n",
        "model.add(Dense(128, activation='relu', input_shape=(16,)))\n",
        "model.add(Dense(64, activation='relu'))\n",
        "model.add(Dense(26, activation='softmax'))  # 26 classes for letters\n",
        "\n",
        "# Compile the model\n",
        "model.compile(optimizer='adam', loss='sparse_categorical_crossentropy', metrics=['accuracy'])\n",
        "\n",
        "# Train the model\n",
        "model.fit(X_train, y_train, epochs=10, batch_size=32, validation_data=(X_test, y_test))\n",
        "\n",
        "# Evaluate the model\n",
        "test_loss, test_accuracy = model.evaluate(X_test, y_test)\n",
        "print(f'Test Accuracy: {test_accuracy}')"
      ],
      "metadata": {
        "colab": {
          "base_uri": "https://localhost:8080/"
        },
        "id": "fDIxqakQxqix",
        "outputId": "c56fc31e-11ac-4699-d023-13aff0c95977"
      },
      "execution_count": 3,
      "outputs": [
        {
          "output_type": "stream",
          "name": "stdout",
          "text": [
            "Epoch 1/10\n",
            "500/500 [==============================] - 3s 3ms/step - loss: 1.6000 - accuracy: 0.5645 - val_loss: 0.9750 - val_accuracy: 0.7405\n",
            "Epoch 2/10\n",
            "500/500 [==============================] - 1s 2ms/step - loss: 0.8720 - accuracy: 0.7541 - val_loss: 0.7606 - val_accuracy: 0.7835\n",
            "Epoch 3/10\n",
            "500/500 [==============================] - 1s 2ms/step - loss: 0.6983 - accuracy: 0.7978 - val_loss: 0.6329 - val_accuracy: 0.8148\n",
            "Epoch 4/10\n",
            "500/500 [==============================] - 2s 3ms/step - loss: 0.5953 - accuracy: 0.8228 - val_loss: 0.5463 - val_accuracy: 0.8380\n",
            "Epoch 5/10\n",
            "500/500 [==============================] - 2s 4ms/step - loss: 0.5237 - accuracy: 0.8476 - val_loss: 0.5031 - val_accuracy: 0.8522\n",
            "Epoch 6/10\n",
            "500/500 [==============================] - 1s 2ms/step - loss: 0.4729 - accuracy: 0.8567 - val_loss: 0.4408 - val_accuracy: 0.8687\n",
            "Epoch 7/10\n",
            "500/500 [==============================] - 1s 2ms/step - loss: 0.4216 - accuracy: 0.8757 - val_loss: 0.4100 - val_accuracy: 0.8763\n",
            "Epoch 8/10\n",
            "500/500 [==============================] - 1s 2ms/step - loss: 0.3910 - accuracy: 0.8824 - val_loss: 0.4002 - val_accuracy: 0.8765\n",
            "Epoch 9/10\n",
            "500/500 [==============================] - 1s 2ms/step - loss: 0.3583 - accuracy: 0.8922 - val_loss: 0.3687 - val_accuracy: 0.8838\n",
            "Epoch 10/10\n",
            "500/500 [==============================] - 1s 3ms/step - loss: 0.3389 - accuracy: 0.8956 - val_loss: 0.3565 - val_accuracy: 0.8885\n",
            "125/125 [==============================] - 0s 2ms/step - loss: 0.3565 - accuracy: 0.8885\n",
            "Test Accuracy: 0.8884999752044678\n"
          ]
        }
      ]
    },
    {
      "cell_type": "code",
      "source": [
        "# Given data\n",
        "import numpy as np\n",
        "new_data = np.array([4, 7, 5, 5, 4, 6, 7, 3, 7, 11, 8, 9, 3, 8, 4, 8]).reshape(1, -1)\n",
        "\n",
        "# Use the model to make predictions\n",
        "predictions = model.predict(new_data)\n",
        "print(predictions)\n",
        "# Display the predictions\n",
        "predicted_class = np.argmax(predictions)\n",
        "print(f'The predicted class is: {predicted_class}')"
      ],
      "metadata": {
        "colab": {
          "base_uri": "https://localhost:8080/"
        },
        "id": "hbD835j-xquj",
        "outputId": "5abbc27d-3225-4ecb-f184-85a2d30ad6c6"
      },
      "execution_count": 4,
      "outputs": [
        {
          "output_type": "stream",
          "name": "stdout",
          "text": [
            "1/1 [==============================] - 0s 90ms/step\n",
            "[[9.21370338e-06 8.16002866e-05 6.17858954e-04 7.09002605e-04\n",
            "  9.84349430e-01 2.45341798e-03 5.51569450e-04 2.49823486e-03\n",
            "  5.76642109e-04 9.19469603e-05 1.09317451e-04 1.31185690e-03\n",
            "  6.41619309e-08 7.47697371e-09 1.13622145e-05 3.12376102e-07\n",
            "  8.25949701e-06 1.35914388e-05 3.73587827e-03 2.21543782e-03\n",
            "  1.12418847e-05 4.65088057e-09 2.13277475e-13 6.12861942e-04\n",
            "  2.31719739e-07 3.05742360e-05]]\n",
            "The predicted class is: 4\n"
          ]
        }
      ]
    },
    {
      "cell_type": "code",
      "source": [
        "class_mapping = {\n",
        "    0: 'A', 1: 'B', 2: 'C', 3: 'D', 4: 'E', 5: 'F', 6: 'G', 7: 'H', 8: 'I', 9: 'J',\n",
        "    10: 'K', 11: 'L', 12: 'M', 13: 'N', 14: 'O', 15: 'P', 16: 'Q', 17: 'R', 18: 'S', 19: 'T',\n",
        "    20: 'U', 21: 'V', 22: 'W', 23: 'X', 24: 'Y', 25: 'Z'\n",
        "}\n",
        "\n",
        "# Display the predicted class using the mapping\n",
        "predicted_letter = class_mapping[predicted_class]\n",
        "print(f'The predicted class is: {predicted_class}, which corresponds to the letter: {predicted_letter}')"
      ],
      "metadata": {
        "colab": {
          "base_uri": "https://localhost:8080/"
        },
        "id": "63n5xCcax28-",
        "outputId": "1c0e783a-c20d-4124-c299-d91b0418aa5f"
      },
      "execution_count": 5,
      "outputs": [
        {
          "output_type": "stream",
          "name": "stdout",
          "text": [
            "The predicted class is: 4, which corresponds to the letter: E\n"
          ]
        }
      ]
    }
  ]
}