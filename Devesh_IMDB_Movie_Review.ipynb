{
  "cells": [
    {
      "cell_type": "markdown",
      "metadata": {
        "id": "view-in-github",
        "colab_type": "text"
      },
      "source": [
        "<a href=\"https://colab.research.google.com/github/Devesh1602/Deep-Learning-BE/blob/main/Devesh_IMDB_Movie_Review.ipynb\" target=\"_parent\"><img src=\"https://colab.research.google.com/assets/colab-badge.svg\" alt=\"Open In Colab\"/></a>"
      ]
    },
    {
      "cell_type": "code",
      "execution_count": 1,
      "id": "0ed2df02",
      "metadata": {
        "id": "0ed2df02"
      },
      "outputs": [],
      "source": [
        "import numpy as np\n",
        "from tensorflow.keras.datasets import imdb\n",
        "from tensorflow.keras.models import Sequential\n",
        "from tensorflow.keras.layers import Dense, LSTM, Embedding, SpatialDropout1D\n",
        "from tensorflow.keras.preprocessing.sequence import pad_sequences\n",
        "from tensorflow.keras.preprocessing.text import Tokenizer"
      ]
    },
    {
      "cell_type": "code",
      "execution_count": 2,
      "id": "36a9cf18",
      "metadata": {
        "id": "36a9cf18",
        "colab": {
          "base_uri": "https://localhost:8080/"
        },
        "outputId": "b5743a18-9f3a-4566-c21b-0ab94f2afe45"
      },
      "outputs": [
        {
          "output_type": "stream",
          "name": "stdout",
          "text": [
            "Downloading data from https://storage.googleapis.com/tensorflow/tf-keras-datasets/imdb.npz\n",
            "17464789/17464789 [==============================] - 0s 0us/step\n"
          ]
        }
      ],
      "source": [
        "# Load the IMDB dataset\n",
        "max_features = 5000\n",
        "maxlen = 100\n",
        "(X_train, y_train), (X_test, y_test) = imdb.load_data(num_words=max_features)\n"
      ]
    },
    {
      "cell_type": "code",
      "execution_count": 3,
      "id": "2a377993",
      "metadata": {
        "id": "2a377993"
      },
      "outputs": [],
      "source": [
        "# Preprocess the data\n",
        "X_train = pad_sequences(X_train, maxlen=maxlen)\n",
        "X_test = pad_sequences(X_test, maxlen=maxlen)"
      ]
    },
    {
      "cell_type": "code",
      "execution_count": 4,
      "id": "59f95de1",
      "metadata": {
        "id": "59f95de1",
        "colab": {
          "base_uri": "https://localhost:8080/"
        },
        "outputId": "dc676749-7637-49dc-bf88-3945a58d9a5f"
      },
      "outputs": [
        {
          "output_type": "stream",
          "name": "stdout",
          "text": [
            "Downloading data from https://storage.googleapis.com/tensorflow/tf-keras-datasets/imdb_word_index.json\n",
            "1641221/1641221 [==============================] - 0s 0us/step\n"
          ]
        }
      ],
      "source": [
        "# Convert sequences back into text\n",
        "reverse_word_index = dict([(value, key) for (key, value) in imdb.get_word_index().items()])\n",
        "def decode_review(text):\n",
        "    return ' '.join([reverse_word_index.get(i - 3, '?') for i in text])\n",
        "\n",
        "X_train_text = [decode_review(x) for x in X_train]\n",
        "X_test_text = [decode_review(x) for x in X_test]\n",
        "\n",
        "# Create and fit tokenizer\n",
        "tokenizer = Tokenizer(num_words=max_features)\n",
        "tokenizer.fit_on_texts(X_train_text)\n",
        "\n",
        "# Preprocess the data\n",
        "X_train = pad_sequences(tokenizer.texts_to_sequences(X_train_text), maxlen=maxlen)\n",
        "X_test = pad_sequences(tokenizer.texts_to_sequences(X_test_text), maxlen=maxlen)"
      ]
    },
    {
      "cell_type": "code",
      "execution_count": 5,
      "id": "f5769332",
      "metadata": {
        "id": "f5769332"
      },
      "outputs": [],
      "source": [
        "# Build the model\n",
        "model = Sequential()\n",
        "model.add(Embedding(max_features, 128, input_length=maxlen))\n",
        "# model.add(SpatialDropout1D(0.2))\n",
        "model.add(LSTM(64, dropout=0.2, recurrent_dropout=0.2))\n",
        "model.add(Dense(1, activation='sigmoid'))\n"
      ]
    },
    {
      "cell_type": "code",
      "execution_count": 6,
      "id": "a5c562a3",
      "metadata": {
        "id": "a5c562a3"
      },
      "outputs": [],
      "source": [
        "model.compile(loss='binary_crossentropy', optimizer='adam', metrics=['accuracy'])\n"
      ]
    },
    {
      "cell_type": "code",
      "execution_count": 7,
      "id": "27577a7c",
      "metadata": {
        "id": "27577a7c",
        "outputId": "dc4230d7-4f80-49aa-f8cb-d9ffa723e0a7",
        "colab": {
          "base_uri": "https://localhost:8080/"
        }
      },
      "outputs": [
        {
          "output_type": "stream",
          "name": "stdout",
          "text": [
            "Epoch 1/5\n",
            "782/782 [==============================] - 185s 231ms/step - loss: 0.4175 - accuracy: 0.8060 - val_loss: 0.3586 - val_accuracy: 0.8458\n",
            "Epoch 2/5\n",
            "782/782 [==============================] - 202s 258ms/step - loss: 0.2940 - accuracy: 0.8778 - val_loss: 0.3571 - val_accuracy: 0.8463\n",
            "Epoch 3/5\n",
            "782/782 [==============================] - 200s 256ms/step - loss: 0.2421 - accuracy: 0.9025 - val_loss: 0.3722 - val_accuracy: 0.8491\n",
            "Epoch 4/5\n",
            "782/782 [==============================] - 201s 257ms/step - loss: 0.1947 - accuracy: 0.9242 - val_loss: 0.4145 - val_accuracy: 0.8424\n",
            "Epoch 5/5\n",
            "782/782 [==============================] - 201s 257ms/step - loss: 0.1638 - accuracy: 0.9375 - val_loss: 0.4694 - val_accuracy: 0.8383\n"
          ]
        },
        {
          "output_type": "execute_result",
          "data": {
            "text/plain": [
              "<keras.src.callbacks.History at 0x7ff3bdffeaa0>"
            ]
          },
          "metadata": {},
          "execution_count": 7
        }
      ],
      "source": [
        "model.fit(X_train, y_train, validation_data=(X_test, y_test), epochs=5, batch_size=32)"
      ]
    },
    {
      "cell_type": "code",
      "execution_count": 8,
      "id": "52e4be46",
      "metadata": {
        "id": "52e4be46",
        "outputId": "8fbff27f-ab41-4049-be55-e243f1764969",
        "colab": {
          "base_uri": "https://localhost:8080/"
        }
      },
      "outputs": [
        {
          "output_type": "stream",
          "name": "stdout",
          "text": [
            "782/782 [==============================] - 24s 31ms/step - loss: 0.4694 - accuracy: 0.8383\n",
            "Test accuracy: 0.8382800221443176\n"
          ]
        }
      ],
      "source": [
        "score, acc = model.evaluate(X_test, y_test, batch_size=32)\n",
        "print(\"Test accuracy:\", acc)"
      ]
    },
    {
      "cell_type": "code",
      "execution_count": 9,
      "id": "b6da2656",
      "metadata": {
        "id": "b6da2656"
      },
      "outputs": [],
      "source": [
        "from tensorflow.keras.preprocessing.sequence import pad_sequences\n",
        "def preprocess_input(user_input):\n",
        "    sequences = tokenizer.texts_to_sequences(user_input)\n",
        "    return pad_sequences(sequences, maxlen=maxlen)"
      ]
    },
    {
      "cell_type": "code",
      "execution_count": 10,
      "id": "5c6fc8cf",
      "metadata": {
        "id": "5c6fc8cf"
      },
      "outputs": [],
      "source": [
        "# Function to predict sentiment\n",
        "def predict_sentiment(review):\n",
        "    review = preprocess_input([review])\n",
        "    prediction = model.predict(review)[0][0]\n",
        "    if prediction >= 0.5:\n",
        "        return \"Positive\"\n",
        "    else:\n",
        "        return \"Negative\""
      ]
    },
    {
      "cell_type": "code",
      "execution_count": 14,
      "id": "fdc3962d",
      "metadata": {
        "id": "fdc3962d",
        "outputId": "27256ab8-ce73-4692-e5ef-a050f93d13e1",
        "colab": {
          "base_uri": "https://localhost:8080/"
        }
      },
      "outputs": [
        {
          "output_type": "stream",
          "name": "stdout",
          "text": [
            "Enter your movie review (or type 'quit' to exit): movie was average\n",
            "1/1 [==============================] - 0s 32ms/step\n",
            "Predicted sentiment: Positive\n"
          ]
        }
      ],
      "source": [
        "\n",
        "user_review = input(\"Enter your movie review (or type 'quit' to exit): \")\n",
        "sentiment = predict_sentiment(user_review)\n",
        "print(\"Predicted sentiment:\", sentiment)"
      ]
    },
    {
      "cell_type": "code",
      "execution_count": null,
      "id": "465c2c03",
      "metadata": {
        "id": "465c2c03"
      },
      "outputs": [],
      "source": []
    },
    {
      "cell_type": "code",
      "execution_count": null,
      "id": "bb5022d8",
      "metadata": {
        "id": "bb5022d8"
      },
      "outputs": [],
      "source": []
    }
  ],
  "metadata": {
    "kernelspec": {
      "display_name": "Python 3 (ipykernel)",
      "language": "python",
      "name": "python3"
    },
    "language_info": {
      "codemirror_mode": {
        "name": "ipython",
        "version": 3
      },
      "file_extension": ".py",
      "mimetype": "text/x-python",
      "name": "python",
      "nbconvert_exporter": "python",
      "pygments_lexer": "ipython3",
      "version": "3.11.3"
    },
    "colab": {
      "provenance": [],
      "include_colab_link": true
    }
  },
  "nbformat": 4,
  "nbformat_minor": 5
}