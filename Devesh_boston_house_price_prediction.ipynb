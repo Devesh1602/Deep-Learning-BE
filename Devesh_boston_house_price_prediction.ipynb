{
  "cells": [
    {
      "cell_type": "markdown",
      "metadata": {
        "id": "view-in-github",
        "colab_type": "text"
      },
      "source": [
        "<a href=\"https://colab.research.google.com/github/Devesh1602/Deep-Learning-BE/blob/main/Devesh_boston_house_price_prediction.ipynb\" target=\"_parent\"><img src=\"https://colab.research.google.com/assets/colab-badge.svg\" alt=\"Open In Colab\"/></a>"
      ]
    },
    {
      "cell_type": "markdown",
      "id": "ca9e9c82",
      "metadata": {
        "id": "ca9e9c82"
      },
      "source": [
        "dataset-https://www.kaggle.com/datasets/altavish/boston-housing-dataset"
      ]
    },
    {
      "cell_type": "code",
      "execution_count": null,
      "id": "178b511f",
      "metadata": {
        "id": "178b511f"
      },
      "outputs": [],
      "source": [
        "import pandas as pd\n",
        "import numpy as np\n",
        "import tensorflow as tf"
      ]
    },
    {
      "cell_type": "code",
      "execution_count": 2,
      "id": "62f14b09",
      "metadata": {
        "id": "62f14b09",
        "outputId": "e20e0477-3e6f-41f2-8ded-0879816c7e9e",
        "colab": {
          "base_uri": "https://localhost:8080/",
          "height": 206
        }
      },
      "outputs": [
        {
          "output_type": "execute_result",
          "data": {
            "text/plain": [
              "      CRIM    ZN  INDUS  CHAS    NOX     RM   AGE     DIS  RAD  TAX  PTRATIO  \\\n",
              "0  0.00632  18.0   2.31   0.0  0.538  6.575  65.2  4.0900    1  296     15.3   \n",
              "1  0.02731   0.0   7.07   0.0  0.469  6.421  78.9  4.9671    2  242     17.8   \n",
              "2  0.02729   0.0   7.07   0.0  0.469  7.185  61.1  4.9671    2  242     17.8   \n",
              "3  0.03237   0.0   2.18   0.0  0.458  6.998  45.8  6.0622    3  222     18.7   \n",
              "4  0.06905   0.0   2.18   0.0  0.458  7.147  54.2  6.0622    3  222     18.7   \n",
              "\n",
              "        B  LSTAT  MEDV  \n",
              "0  396.90   4.98  24.0  \n",
              "1  396.90   9.14  21.6  \n",
              "2  392.83   4.03  34.7  \n",
              "3  394.63   2.94  33.4  \n",
              "4  396.90    NaN  36.2  "
            ],
            "text/html": [
              "\n",
              "  <div id=\"df-ba716b57-5602-48c1-9bd4-09da9e6a8841\" class=\"colab-df-container\">\n",
              "    <div>\n",
              "<style scoped>\n",
              "    .dataframe tbody tr th:only-of-type {\n",
              "        vertical-align: middle;\n",
              "    }\n",
              "\n",
              "    .dataframe tbody tr th {\n",
              "        vertical-align: top;\n",
              "    }\n",
              "\n",
              "    .dataframe thead th {\n",
              "        text-align: right;\n",
              "    }\n",
              "</style>\n",
              "<table border=\"1\" class=\"dataframe\">\n",
              "  <thead>\n",
              "    <tr style=\"text-align: right;\">\n",
              "      <th></th>\n",
              "      <th>CRIM</th>\n",
              "      <th>ZN</th>\n",
              "      <th>INDUS</th>\n",
              "      <th>CHAS</th>\n",
              "      <th>NOX</th>\n",
              "      <th>RM</th>\n",
              "      <th>AGE</th>\n",
              "      <th>DIS</th>\n",
              "      <th>RAD</th>\n",
              "      <th>TAX</th>\n",
              "      <th>PTRATIO</th>\n",
              "      <th>B</th>\n",
              "      <th>LSTAT</th>\n",
              "      <th>MEDV</th>\n",
              "    </tr>\n",
              "  </thead>\n",
              "  <tbody>\n",
              "    <tr>\n",
              "      <th>0</th>\n",
              "      <td>0.00632</td>\n",
              "      <td>18.0</td>\n",
              "      <td>2.31</td>\n",
              "      <td>0.0</td>\n",
              "      <td>0.538</td>\n",
              "      <td>6.575</td>\n",
              "      <td>65.2</td>\n",
              "      <td>4.0900</td>\n",
              "      <td>1</td>\n",
              "      <td>296</td>\n",
              "      <td>15.3</td>\n",
              "      <td>396.90</td>\n",
              "      <td>4.98</td>\n",
              "      <td>24.0</td>\n",
              "    </tr>\n",
              "    <tr>\n",
              "      <th>1</th>\n",
              "      <td>0.02731</td>\n",
              "      <td>0.0</td>\n",
              "      <td>7.07</td>\n",
              "      <td>0.0</td>\n",
              "      <td>0.469</td>\n",
              "      <td>6.421</td>\n",
              "      <td>78.9</td>\n",
              "      <td>4.9671</td>\n",
              "      <td>2</td>\n",
              "      <td>242</td>\n",
              "      <td>17.8</td>\n",
              "      <td>396.90</td>\n",
              "      <td>9.14</td>\n",
              "      <td>21.6</td>\n",
              "    </tr>\n",
              "    <tr>\n",
              "      <th>2</th>\n",
              "      <td>0.02729</td>\n",
              "      <td>0.0</td>\n",
              "      <td>7.07</td>\n",
              "      <td>0.0</td>\n",
              "      <td>0.469</td>\n",
              "      <td>7.185</td>\n",
              "      <td>61.1</td>\n",
              "      <td>4.9671</td>\n",
              "      <td>2</td>\n",
              "      <td>242</td>\n",
              "      <td>17.8</td>\n",
              "      <td>392.83</td>\n",
              "      <td>4.03</td>\n",
              "      <td>34.7</td>\n",
              "    </tr>\n",
              "    <tr>\n",
              "      <th>3</th>\n",
              "      <td>0.03237</td>\n",
              "      <td>0.0</td>\n",
              "      <td>2.18</td>\n",
              "      <td>0.0</td>\n",
              "      <td>0.458</td>\n",
              "      <td>6.998</td>\n",
              "      <td>45.8</td>\n",
              "      <td>6.0622</td>\n",
              "      <td>3</td>\n",
              "      <td>222</td>\n",
              "      <td>18.7</td>\n",
              "      <td>394.63</td>\n",
              "      <td>2.94</td>\n",
              "      <td>33.4</td>\n",
              "    </tr>\n",
              "    <tr>\n",
              "      <th>4</th>\n",
              "      <td>0.06905</td>\n",
              "      <td>0.0</td>\n",
              "      <td>2.18</td>\n",
              "      <td>0.0</td>\n",
              "      <td>0.458</td>\n",
              "      <td>7.147</td>\n",
              "      <td>54.2</td>\n",
              "      <td>6.0622</td>\n",
              "      <td>3</td>\n",
              "      <td>222</td>\n",
              "      <td>18.7</td>\n",
              "      <td>396.90</td>\n",
              "      <td>NaN</td>\n",
              "      <td>36.2</td>\n",
              "    </tr>\n",
              "  </tbody>\n",
              "</table>\n",
              "</div>\n",
              "    <div class=\"colab-df-buttons\">\n",
              "\n",
              "  <div class=\"colab-df-container\">\n",
              "    <button class=\"colab-df-convert\" onclick=\"convertToInteractive('df-ba716b57-5602-48c1-9bd4-09da9e6a8841')\"\n",
              "            title=\"Convert this dataframe to an interactive table.\"\n",
              "            style=\"display:none;\">\n",
              "\n",
              "  <svg xmlns=\"http://www.w3.org/2000/svg\" height=\"24px\" viewBox=\"0 -960 960 960\">\n",
              "    <path d=\"M120-120v-720h720v720H120Zm60-500h600v-160H180v160Zm220 220h160v-160H400v160Zm0 220h160v-160H400v160ZM180-400h160v-160H180v160Zm440 0h160v-160H620v160ZM180-180h160v-160H180v160Zm440 0h160v-160H620v160Z\"/>\n",
              "  </svg>\n",
              "    </button>\n",
              "\n",
              "  <style>\n",
              "    .colab-df-container {\n",
              "      display:flex;\n",
              "      gap: 12px;\n",
              "    }\n",
              "\n",
              "    .colab-df-convert {\n",
              "      background-color: #E8F0FE;\n",
              "      border: none;\n",
              "      border-radius: 50%;\n",
              "      cursor: pointer;\n",
              "      display: none;\n",
              "      fill: #1967D2;\n",
              "      height: 32px;\n",
              "      padding: 0 0 0 0;\n",
              "      width: 32px;\n",
              "    }\n",
              "\n",
              "    .colab-df-convert:hover {\n",
              "      background-color: #E2EBFA;\n",
              "      box-shadow: 0px 1px 2px rgba(60, 64, 67, 0.3), 0px 1px 3px 1px rgba(60, 64, 67, 0.15);\n",
              "      fill: #174EA6;\n",
              "    }\n",
              "\n",
              "    .colab-df-buttons div {\n",
              "      margin-bottom: 4px;\n",
              "    }\n",
              "\n",
              "    [theme=dark] .colab-df-convert {\n",
              "      background-color: #3B4455;\n",
              "      fill: #D2E3FC;\n",
              "    }\n",
              "\n",
              "    [theme=dark] .colab-df-convert:hover {\n",
              "      background-color: #434B5C;\n",
              "      box-shadow: 0px 1px 3px 1px rgba(0, 0, 0, 0.15);\n",
              "      filter: drop-shadow(0px 1px 2px rgba(0, 0, 0, 0.3));\n",
              "      fill: #FFFFFF;\n",
              "    }\n",
              "  </style>\n",
              "\n",
              "    <script>\n",
              "      const buttonEl =\n",
              "        document.querySelector('#df-ba716b57-5602-48c1-9bd4-09da9e6a8841 button.colab-df-convert');\n",
              "      buttonEl.style.display =\n",
              "        google.colab.kernel.accessAllowed ? 'block' : 'none';\n",
              "\n",
              "      async function convertToInteractive(key) {\n",
              "        const element = document.querySelector('#df-ba716b57-5602-48c1-9bd4-09da9e6a8841');\n",
              "        const dataTable =\n",
              "          await google.colab.kernel.invokeFunction('convertToInteractive',\n",
              "                                                    [key], {});\n",
              "        if (!dataTable) return;\n",
              "\n",
              "        const docLinkHtml = 'Like what you see? Visit the ' +\n",
              "          '<a target=\"_blank\" href=https://colab.research.google.com/notebooks/data_table.ipynb>data table notebook</a>'\n",
              "          + ' to learn more about interactive tables.';\n",
              "        element.innerHTML = '';\n",
              "        dataTable['output_type'] = 'display_data';\n",
              "        await google.colab.output.renderOutput(dataTable, element);\n",
              "        const docLink = document.createElement('div');\n",
              "        docLink.innerHTML = docLinkHtml;\n",
              "        element.appendChild(docLink);\n",
              "      }\n",
              "    </script>\n",
              "  </div>\n",
              "\n",
              "\n",
              "<div id=\"df-a37a3010-fbba-452a-a4b7-f9a3ef3db17a\">\n",
              "  <button class=\"colab-df-quickchart\" onclick=\"quickchart('df-a37a3010-fbba-452a-a4b7-f9a3ef3db17a')\"\n",
              "            title=\"Suggest charts\"\n",
              "            style=\"display:none;\">\n",
              "\n",
              "<svg xmlns=\"http://www.w3.org/2000/svg\" height=\"24px\"viewBox=\"0 0 24 24\"\n",
              "     width=\"24px\">\n",
              "    <g>\n",
              "        <path d=\"M19 3H5c-1.1 0-2 .9-2 2v14c0 1.1.9 2 2 2h14c1.1 0 2-.9 2-2V5c0-1.1-.9-2-2-2zM9 17H7v-7h2v7zm4 0h-2V7h2v10zm4 0h-2v-4h2v4z\"/>\n",
              "    </g>\n",
              "</svg>\n",
              "  </button>\n",
              "\n",
              "<style>\n",
              "  .colab-df-quickchart {\n",
              "      --bg-color: #E8F0FE;\n",
              "      --fill-color: #1967D2;\n",
              "      --hover-bg-color: #E2EBFA;\n",
              "      --hover-fill-color: #174EA6;\n",
              "      --disabled-fill-color: #AAA;\n",
              "      --disabled-bg-color: #DDD;\n",
              "  }\n",
              "\n",
              "  [theme=dark] .colab-df-quickchart {\n",
              "      --bg-color: #3B4455;\n",
              "      --fill-color: #D2E3FC;\n",
              "      --hover-bg-color: #434B5C;\n",
              "      --hover-fill-color: #FFFFFF;\n",
              "      --disabled-bg-color: #3B4455;\n",
              "      --disabled-fill-color: #666;\n",
              "  }\n",
              "\n",
              "  .colab-df-quickchart {\n",
              "    background-color: var(--bg-color);\n",
              "    border: none;\n",
              "    border-radius: 50%;\n",
              "    cursor: pointer;\n",
              "    display: none;\n",
              "    fill: var(--fill-color);\n",
              "    height: 32px;\n",
              "    padding: 0;\n",
              "    width: 32px;\n",
              "  }\n",
              "\n",
              "  .colab-df-quickchart:hover {\n",
              "    background-color: var(--hover-bg-color);\n",
              "    box-shadow: 0 1px 2px rgba(60, 64, 67, 0.3), 0 1px 3px 1px rgba(60, 64, 67, 0.15);\n",
              "    fill: var(--button-hover-fill-color);\n",
              "  }\n",
              "\n",
              "  .colab-df-quickchart-complete:disabled,\n",
              "  .colab-df-quickchart-complete:disabled:hover {\n",
              "    background-color: var(--disabled-bg-color);\n",
              "    fill: var(--disabled-fill-color);\n",
              "    box-shadow: none;\n",
              "  }\n",
              "\n",
              "  .colab-df-spinner {\n",
              "    border: 2px solid var(--fill-color);\n",
              "    border-color: transparent;\n",
              "    border-bottom-color: var(--fill-color);\n",
              "    animation:\n",
              "      spin 1s steps(1) infinite;\n",
              "  }\n",
              "\n",
              "  @keyframes spin {\n",
              "    0% {\n",
              "      border-color: transparent;\n",
              "      border-bottom-color: var(--fill-color);\n",
              "      border-left-color: var(--fill-color);\n",
              "    }\n",
              "    20% {\n",
              "      border-color: transparent;\n",
              "      border-left-color: var(--fill-color);\n",
              "      border-top-color: var(--fill-color);\n",
              "    }\n",
              "    30% {\n",
              "      border-color: transparent;\n",
              "      border-left-color: var(--fill-color);\n",
              "      border-top-color: var(--fill-color);\n",
              "      border-right-color: var(--fill-color);\n",
              "    }\n",
              "    40% {\n",
              "      border-color: transparent;\n",
              "      border-right-color: var(--fill-color);\n",
              "      border-top-color: var(--fill-color);\n",
              "    }\n",
              "    60% {\n",
              "      border-color: transparent;\n",
              "      border-right-color: var(--fill-color);\n",
              "    }\n",
              "    80% {\n",
              "      border-color: transparent;\n",
              "      border-right-color: var(--fill-color);\n",
              "      border-bottom-color: var(--fill-color);\n",
              "    }\n",
              "    90% {\n",
              "      border-color: transparent;\n",
              "      border-bottom-color: var(--fill-color);\n",
              "    }\n",
              "  }\n",
              "</style>\n",
              "\n",
              "  <script>\n",
              "    async function quickchart(key) {\n",
              "      const quickchartButtonEl =\n",
              "        document.querySelector('#' + key + ' button');\n",
              "      quickchartButtonEl.disabled = true;  // To prevent multiple clicks.\n",
              "      quickchartButtonEl.classList.add('colab-df-spinner');\n",
              "      try {\n",
              "        const charts = await google.colab.kernel.invokeFunction(\n",
              "            'suggestCharts', [key], {});\n",
              "      } catch (error) {\n",
              "        console.error('Error during call to suggestCharts:', error);\n",
              "      }\n",
              "      quickchartButtonEl.classList.remove('colab-df-spinner');\n",
              "      quickchartButtonEl.classList.add('colab-df-quickchart-complete');\n",
              "    }\n",
              "    (() => {\n",
              "      let quickchartButtonEl =\n",
              "        document.querySelector('#df-a37a3010-fbba-452a-a4b7-f9a3ef3db17a button');\n",
              "      quickchartButtonEl.style.display =\n",
              "        google.colab.kernel.accessAllowed ? 'block' : 'none';\n",
              "    })();\n",
              "  </script>\n",
              "</div>\n",
              "\n",
              "    </div>\n",
              "  </div>\n"
            ],
            "application/vnd.google.colaboratory.intrinsic+json": {
              "type": "dataframe",
              "variable_name": "df",
              "summary": "{\n  \"name\": \"df\",\n  \"rows\": 506,\n  \"fields\": [\n    {\n      \"column\": \"CRIM\",\n      \"properties\": {\n        \"dtype\": \"number\",\n        \"std\": 8.720191850151599,\n        \"min\": 0.00632,\n        \"max\": 88.9762,\n        \"num_unique_values\": 484,\n        \"samples\": [\n          15.1772,\n          0.2896,\n          0.08308\n        ],\n        \"semantic_type\": \"\",\n        \"description\": \"\"\n      }\n    },\n    {\n      \"column\": \"ZN\",\n      \"properties\": {\n        \"dtype\": \"number\",\n        \"std\": 23.388876146265478,\n        \"min\": 0.0,\n        \"max\": 100.0,\n        \"num_unique_values\": 26,\n        \"samples\": [\n          25.0,\n          30.0,\n          18.0\n        ],\n        \"semantic_type\": \"\",\n        \"description\": \"\"\n      }\n    },\n    {\n      \"column\": \"INDUS\",\n      \"properties\": {\n        \"dtype\": \"number\",\n        \"std\": 6.83589649864144,\n        \"min\": 0.46,\n        \"max\": 27.74,\n        \"num_unique_values\": 76,\n        \"samples\": [\n          8.14,\n          1.47,\n          1.22\n        ],\n        \"semantic_type\": \"\",\n        \"description\": \"\"\n      }\n    },\n    {\n      \"column\": \"CHAS\",\n      \"properties\": {\n        \"dtype\": \"number\",\n        \"std\": 0.2553404809065679,\n        \"min\": 0.0,\n        \"max\": 1.0,\n        \"num_unique_values\": 2,\n        \"samples\": [\n          1.0,\n          0.0\n        ],\n        \"semantic_type\": \"\",\n        \"description\": \"\"\n      }\n    },\n    {\n      \"column\": \"NOX\",\n      \"properties\": {\n        \"dtype\": \"number\",\n        \"std\": 0.11587767566755595,\n        \"min\": 0.385,\n        \"max\": 0.871,\n        \"num_unique_values\": 81,\n        \"samples\": [\n          0.401,\n          0.538\n        ],\n        \"semantic_type\": \"\",\n        \"description\": \"\"\n      }\n    },\n    {\n      \"column\": \"RM\",\n      \"properties\": {\n        \"dtype\": \"number\",\n        \"std\": 0.7026171434153233,\n        \"min\": 3.561,\n        \"max\": 8.78,\n        \"num_unique_values\": 446,\n        \"samples\": [\n          6.849,\n          4.88\n        ],\n        \"semantic_type\": \"\",\n        \"description\": \"\"\n      }\n    },\n    {\n      \"column\": \"AGE\",\n      \"properties\": {\n        \"dtype\": \"number\",\n        \"std\": 27.99951300509237,\n        \"min\": 2.9,\n        \"max\": 100.0,\n        \"num_unique_values\": 348,\n        \"samples\": [\n          82.8,\n          88.4\n        ],\n        \"semantic_type\": \"\",\n        \"description\": \"\"\n      }\n    },\n    {\n      \"column\": \"DIS\",\n      \"properties\": {\n        \"dtype\": \"number\",\n        \"std\": 2.105710126627611,\n        \"min\": 1.1296,\n        \"max\": 12.1265,\n        \"num_unique_values\": 412,\n        \"samples\": [\n          2.2955,\n          4.2515\n        ],\n        \"semantic_type\": \"\",\n        \"description\": \"\"\n      }\n    },\n    {\n      \"column\": \"RAD\",\n      \"properties\": {\n        \"dtype\": \"number\",\n        \"std\": 8,\n        \"min\": 1,\n        \"max\": 24,\n        \"num_unique_values\": 9,\n        \"samples\": [\n          7,\n          2\n        ],\n        \"semantic_type\": \"\",\n        \"description\": \"\"\n      }\n    },\n    {\n      \"column\": \"TAX\",\n      \"properties\": {\n        \"dtype\": \"number\",\n        \"std\": 168,\n        \"min\": 187,\n        \"max\": 711,\n        \"num_unique_values\": 66,\n        \"samples\": [\n          370,\n          666\n        ],\n        \"semantic_type\": \"\",\n        \"description\": \"\"\n      }\n    },\n    {\n      \"column\": \"PTRATIO\",\n      \"properties\": {\n        \"dtype\": \"number\",\n        \"std\": 2.1649455237144406,\n        \"min\": 12.6,\n        \"max\": 22.0,\n        \"num_unique_values\": 46,\n        \"samples\": [\n          19.6,\n          15.6\n        ],\n        \"semantic_type\": \"\",\n        \"description\": \"\"\n      }\n    },\n    {\n      \"column\": \"B\",\n      \"properties\": {\n        \"dtype\": \"number\",\n        \"std\": 91.29486438415783,\n        \"min\": 0.32,\n        \"max\": 396.9,\n        \"num_unique_values\": 357,\n        \"samples\": [\n          396.24,\n          395.11\n        ],\n        \"semantic_type\": \"\",\n        \"description\": \"\"\n      }\n    },\n    {\n      \"column\": \"LSTAT\",\n      \"properties\": {\n        \"dtype\": \"number\",\n        \"std\": 7.155870815805251,\n        \"min\": 1.73,\n        \"max\": 37.97,\n        \"num_unique_values\": 438,\n        \"samples\": [\n          26.64,\n          7.51\n        ],\n        \"semantic_type\": \"\",\n        \"description\": \"\"\n      }\n    },\n    {\n      \"column\": \"MEDV\",\n      \"properties\": {\n        \"dtype\": \"number\",\n        \"std\": 9.197104087379818,\n        \"min\": 5.0,\n        \"max\": 50.0,\n        \"num_unique_values\": 229,\n        \"samples\": [\n          14.1,\n          22.5\n        ],\n        \"semantic_type\": \"\",\n        \"description\": \"\"\n      }\n    }\n  ]\n}"
            }
          },
          "metadata": {},
          "execution_count": 2
        }
      ],
      "source": [
        "df=pd.read_csv(\"housingdata.csv\")\n",
        "df.head()"
      ]
    },
    {
      "cell_type": "code",
      "execution_count": 3,
      "id": "a29337a2",
      "metadata": {
        "id": "a29337a2",
        "outputId": "da0b43d1-6dfd-4ec7-8c22-a587261c0b71",
        "colab": {
          "base_uri": "https://localhost:8080/"
        }
      },
      "outputs": [
        {
          "output_type": "execute_result",
          "data": {
            "text/plain": [
              "CRIM       20\n",
              "ZN         20\n",
              "INDUS      20\n",
              "CHAS       20\n",
              "NOX         0\n",
              "RM          0\n",
              "AGE        20\n",
              "DIS         0\n",
              "RAD         0\n",
              "TAX         0\n",
              "PTRATIO     0\n",
              "B           0\n",
              "LSTAT      20\n",
              "MEDV        0\n",
              "dtype: int64"
            ]
          },
          "metadata": {},
          "execution_count": 3
        }
      ],
      "source": [
        "df.isnull().sum()"
      ]
    },
    {
      "cell_type": "code",
      "execution_count": 4,
      "id": "c6bd7ad3",
      "metadata": {
        "id": "c6bd7ad3",
        "outputId": "7f372d2b-4a92-44a5-d7ac-4b203d91a614",
        "colab": {
          "base_uri": "https://localhost:8080/"
        }
      },
      "outputs": [
        {
          "output_type": "execute_result",
          "data": {
            "text/plain": [
              "CRIM         3.611874\n",
              "ZN          11.211934\n",
              "INDUS       11.083992\n",
              "CHAS         0.069959\n",
              "NOX          0.554695\n",
              "RM           6.284634\n",
              "AGE         68.518519\n",
              "DIS          3.795043\n",
              "RAD          9.549407\n",
              "TAX        408.237154\n",
              "PTRATIO     18.455534\n",
              "B          356.674032\n",
              "LSTAT       12.715432\n",
              "MEDV        22.532806\n",
              "dtype: float64"
            ]
          },
          "metadata": {},
          "execution_count": 4
        }
      ],
      "source": [
        "df.mean()"
      ]
    },
    {
      "cell_type": "code",
      "execution_count": 5,
      "id": "c9ed5174",
      "metadata": {
        "id": "c9ed5174"
      },
      "outputs": [],
      "source": [
        "df.fillna(df.mean(),inplace=True)"
      ]
    },
    {
      "cell_type": "code",
      "execution_count": 7,
      "id": "5a1f4338",
      "metadata": {
        "id": "5a1f4338"
      },
      "outputs": [],
      "source": [
        "#features (x) and the target variable (y).\n",
        "x = df.drop('MEDV',axis=1)\n",
        "y=df['MEDV']"
      ]
    },
    {
      "cell_type": "code",
      "execution_count": 9,
      "id": "2853abe2",
      "metadata": {
        "id": "2853abe2",
        "outputId": "6c94b15a-5211-4826-cfe3-1cd9c36ab01f",
        "colab": {
          "base_uri": "https://localhost:8080/"
        }
      },
      "outputs": [
        {
          "output_type": "stream",
          "name": "stdout",
          "text": [
            "shape of scaled x train: (354, 13)\n",
            "shape of scaled x test: (152, 13)\n"
          ]
        }
      ],
      "source": [
        "from sklearn.model_selection import train_test_split\n",
        "from sklearn.preprocessing import MinMaxScaler #Alternative StandardScaler\n",
        "x_train,x_test,y_train,y_test = train_test_split(x,y,test_size=0.3)\n",
        "scale = MinMaxScaler()\n",
        "x_train_scaled = scale.fit_transform(x_train)\n",
        "x_test_scaled = scale.fit_transform(x_test)\n",
        "print(\"shape of scaled x train:\",x_train_scaled.shape)\n",
        "print(\"shape of scaled x test:\",x_test_scaled.shape) # .shape is usually used to get the current shape of an array"
      ]
    },
    {
      "cell_type": "code",
      "execution_count": 10,
      "id": "5b924252",
      "metadata": {
        "scrolled": true,
        "id": "5b924252",
        "outputId": "88e07ac0-320b-40a6-f164-55cc56df0c6a",
        "colab": {
          "base_uri": "https://localhost:8080/"
        }
      },
      "outputs": [
        {
          "output_type": "execute_result",
          "data": {
            "text/plain": [
              "array([0.21581068, 0.        , 0.64662757, 0.        , 0.58847737,\n",
              "       0.57175704, 0.9907312 , 0.03542817, 1.        , 0.91412214,\n",
              "       0.80851064, 1.        , 0.5339404 ])"
            ]
          },
          "metadata": {},
          "execution_count": 10
        }
      ],
      "source": [
        "x_train_scaled[0]"
      ]
    },
    {
      "cell_type": "code",
      "execution_count": 11,
      "id": "a8433ce0",
      "metadata": {
        "id": "a8433ce0",
        "outputId": "67ffaaef-c003-4f72-efd6-9d4b992d2d0c",
        "colab": {
          "base_uri": "https://localhost:8080/"
        }
      },
      "outputs": [
        {
          "output_type": "execute_result",
          "data": {
            "text/plain": [
              "(13,)"
            ]
          },
          "metadata": {},
          "execution_count": 11
        }
      ],
      "source": [
        "x_train_scaled[0].shape"
      ]
    },
    {
      "cell_type": "code",
      "execution_count": 14,
      "id": "23a24cb8",
      "metadata": {
        "id": "23a24cb8"
      },
      "outputs": [],
      "source": [
        "from tensorflow.keras.models import Sequential\n",
        "from tensorflow.keras.layers import *\n",
        "\n",
        " #Activation alternative ReLU (Rectified Linear Unit), sigmoid, tanh, and softmax.\n",
        "model=Sequential()\n",
        "model.add(Dense(128,activation='relu',input_shape=(x_train_scaled[0].shape)))\n",
        "model.add(Dense(64,activation='relu'))\n",
        "model.add(Dense(32,activation='relu'))\n",
        "model.add(Dense(16,activation='relu'))\n",
        "model.add(Dense(1)) #output layer\n",
        "model.compile(optimizer='adam',loss='mse',metrics=['mae']) #compilation\n",
        "#optimiser alternative RMSprop\n"
      ]
    },
    {
      "cell_type": "code",
      "execution_count": 15,
      "id": "b797f658",
      "metadata": {
        "scrolled": true,
        "id": "b797f658",
        "outputId": "2f9293a6-dd0f-4acf-ef83-22ab8cc430f4",
        "colab": {
          "base_uri": "https://localhost:8080/"
        }
      },
      "outputs": [
        {
          "output_type": "stream",
          "name": "stdout",
          "text": [
            "Epoch 1/100\n",
            "354/354 [==============================] - 3s 4ms/step - loss: 132.5409 - mae: 8.5975 - val_loss: 45.1734 - val_mae: 4.2698\n",
            "Epoch 2/100\n",
            "354/354 [==============================] - 1s 3ms/step - loss: 40.4956 - mae: 4.5136 - val_loss: 33.5196 - val_mae: 4.3095\n",
            "Epoch 3/100\n",
            "354/354 [==============================] - 1s 2ms/step - loss: 27.5246 - mae: 3.7583 - val_loss: 27.9831 - val_mae: 3.4494\n",
            "Epoch 4/100\n",
            "354/354 [==============================] - 1s 4ms/step - loss: 21.6489 - mae: 3.2709 - val_loss: 24.9882 - val_mae: 3.4615\n",
            "Epoch 5/100\n",
            "354/354 [==============================] - 2s 4ms/step - loss: 23.4098 - mae: 3.3484 - val_loss: 25.3773 - val_mae: 3.1014\n",
            "Epoch 6/100\n",
            "354/354 [==============================] - 1s 3ms/step - loss: 20.0421 - mae: 3.2106 - val_loss: 29.6174 - val_mae: 3.5747\n",
            "Epoch 7/100\n",
            "354/354 [==============================] - 1s 3ms/step - loss: 20.5474 - mae: 3.1245 - val_loss: 27.0176 - val_mae: 3.8491\n",
            "Epoch 8/100\n",
            "354/354 [==============================] - 1s 3ms/step - loss: 18.9092 - mae: 3.0828 - val_loss: 20.6194 - val_mae: 2.6640\n",
            "Epoch 9/100\n",
            "354/354 [==============================] - 1s 2ms/step - loss: 18.7362 - mae: 3.0152 - val_loss: 18.8744 - val_mae: 2.6762\n",
            "Epoch 10/100\n",
            "354/354 [==============================] - 1s 2ms/step - loss: 17.1443 - mae: 2.9263 - val_loss: 27.4334 - val_mae: 3.3028\n",
            "Epoch 11/100\n",
            "354/354 [==============================] - 1s 3ms/step - loss: 16.5674 - mae: 2.8542 - val_loss: 18.3047 - val_mae: 2.5487\n",
            "Epoch 12/100\n",
            "354/354 [==============================] - 1s 2ms/step - loss: 17.3510 - mae: 2.9768 - val_loss: 18.7609 - val_mae: 2.6968\n",
            "Epoch 13/100\n",
            "354/354 [==============================] - 1s 2ms/step - loss: 15.3386 - mae: 2.7488 - val_loss: 35.9325 - val_mae: 4.5936\n",
            "Epoch 14/100\n",
            "354/354 [==============================] - 1s 3ms/step - loss: 16.0523 - mae: 2.8528 - val_loss: 17.2497 - val_mae: 2.6891\n",
            "Epoch 15/100\n",
            "354/354 [==============================] - 1s 3ms/step - loss: 15.0647 - mae: 2.8139 - val_loss: 23.9739 - val_mae: 3.0493\n",
            "Epoch 16/100\n",
            "354/354 [==============================] - 1s 3ms/step - loss: 14.2650 - mae: 2.6392 - val_loss: 16.6740 - val_mae: 2.5223\n",
            "Epoch 17/100\n",
            "354/354 [==============================] - 2s 5ms/step - loss: 14.1924 - mae: 2.6173 - val_loss: 17.5212 - val_mae: 2.4563\n",
            "Epoch 18/100\n",
            "354/354 [==============================] - 1s 4ms/step - loss: 13.8591 - mae: 2.6476 - val_loss: 18.4887 - val_mae: 2.6648\n",
            "Epoch 19/100\n",
            "354/354 [==============================] - 1s 3ms/step - loss: 12.3157 - mae: 2.5743 - val_loss: 16.4127 - val_mae: 2.6465\n",
            "Epoch 20/100\n",
            "354/354 [==============================] - 1s 3ms/step - loss: 13.3936 - mae: 2.6560 - val_loss: 15.1119 - val_mae: 2.6428\n",
            "Epoch 21/100\n",
            "354/354 [==============================] - 1s 3ms/step - loss: 13.1557 - mae: 2.6321 - val_loss: 15.5655 - val_mae: 2.7053\n",
            "Epoch 22/100\n",
            "354/354 [==============================] - 1s 3ms/step - loss: 10.8326 - mae: 2.4037 - val_loss: 18.9315 - val_mae: 3.0692\n",
            "Epoch 23/100\n",
            "354/354 [==============================] - 1s 3ms/step - loss: 11.3827 - mae: 2.3962 - val_loss: 15.6211 - val_mae: 2.7548\n",
            "Epoch 24/100\n",
            "354/354 [==============================] - 1s 2ms/step - loss: 13.1094 - mae: 2.6244 - val_loss: 16.3143 - val_mae: 2.8319\n",
            "Epoch 25/100\n",
            "354/354 [==============================] - 1s 3ms/step - loss: 11.1737 - mae: 2.4594 - val_loss: 15.5201 - val_mae: 2.7625\n",
            "Epoch 26/100\n",
            "354/354 [==============================] - 1s 2ms/step - loss: 10.9349 - mae: 2.4372 - val_loss: 14.6162 - val_mae: 2.5055\n",
            "Epoch 27/100\n",
            "354/354 [==============================] - 1s 3ms/step - loss: 11.7716 - mae: 2.3888 - val_loss: 21.0662 - val_mae: 2.8861\n",
            "Epoch 28/100\n",
            "354/354 [==============================] - 1s 3ms/step - loss: 11.4637 - mae: 2.4772 - val_loss: 16.9035 - val_mae: 2.7183\n",
            "Epoch 29/100\n",
            "354/354 [==============================] - 1s 4ms/step - loss: 9.5175 - mae: 2.2705 - val_loss: 19.7568 - val_mae: 2.7694\n",
            "Epoch 30/100\n",
            "354/354 [==============================] - 1s 4ms/step - loss: 10.2200 - mae: 2.3057 - val_loss: 18.7285 - val_mae: 2.8702\n",
            "Epoch 31/100\n",
            "354/354 [==============================] - 1s 2ms/step - loss: 10.7605 - mae: 2.3815 - val_loss: 14.4111 - val_mae: 2.5999\n",
            "Epoch 32/100\n",
            "354/354 [==============================] - 1s 2ms/step - loss: 10.9841 - mae: 2.3460 - val_loss: 14.5776 - val_mae: 2.5218\n",
            "Epoch 33/100\n",
            "354/354 [==============================] - 1s 3ms/step - loss: 10.1646 - mae: 2.3527 - val_loss: 15.4390 - val_mae: 2.6023\n",
            "Epoch 34/100\n",
            "354/354 [==============================] - 1s 2ms/step - loss: 9.0072 - mae: 2.1740 - val_loss: 13.1121 - val_mae: 2.4457\n",
            "Epoch 35/100\n",
            "354/354 [==============================] - 1s 2ms/step - loss: 9.4366 - mae: 2.2483 - val_loss: 15.0093 - val_mae: 2.4894\n",
            "Epoch 36/100\n",
            "354/354 [==============================] - 1s 3ms/step - loss: 9.1451 - mae: 2.2626 - val_loss: 14.8967 - val_mae: 2.5766\n",
            "Epoch 37/100\n",
            "354/354 [==============================] - 1s 2ms/step - loss: 9.1666 - mae: 2.2376 - val_loss: 14.3356 - val_mae: 2.5957\n",
            "Epoch 38/100\n",
            "354/354 [==============================] - 1s 3ms/step - loss: 7.9214 - mae: 2.0376 - val_loss: 23.6364 - val_mae: 3.6782\n",
            "Epoch 39/100\n",
            "354/354 [==============================] - 1s 3ms/step - loss: 8.6268 - mae: 2.1558 - val_loss: 15.7303 - val_mae: 2.6007\n",
            "Epoch 40/100\n",
            "354/354 [==============================] - 1s 3ms/step - loss: 8.4442 - mae: 2.2015 - val_loss: 13.5446 - val_mae: 2.6015\n",
            "Epoch 41/100\n",
            "354/354 [==============================] - 1s 3ms/step - loss: 9.2394 - mae: 2.2805 - val_loss: 22.2227 - val_mae: 3.6784\n",
            "Epoch 42/100\n",
            "354/354 [==============================] - 1s 4ms/step - loss: 8.8271 - mae: 2.1864 - val_loss: 14.3773 - val_mae: 2.5454\n",
            "Epoch 43/100\n",
            "354/354 [==============================] - 1s 4ms/step - loss: 8.2348 - mae: 2.1553 - val_loss: 13.5966 - val_mae: 2.2824\n",
            "Epoch 44/100\n",
            "354/354 [==============================] - 1s 2ms/step - loss: 7.9295 - mae: 2.1221 - val_loss: 14.8818 - val_mae: 2.4628\n",
            "Epoch 45/100\n",
            "354/354 [==============================] - 1s 2ms/step - loss: 7.3565 - mae: 2.0337 - val_loss: 14.9282 - val_mae: 2.5785\n",
            "Epoch 46/100\n",
            "354/354 [==============================] - 1s 3ms/step - loss: 7.6817 - mae: 2.0603 - val_loss: 16.7722 - val_mae: 2.8951\n",
            "Epoch 47/100\n",
            "354/354 [==============================] - 1s 2ms/step - loss: 7.3005 - mae: 2.0317 - val_loss: 18.6111 - val_mae: 3.0997\n",
            "Epoch 48/100\n",
            "354/354 [==============================] - 1s 3ms/step - loss: 8.4544 - mae: 2.2265 - val_loss: 15.7812 - val_mae: 2.8554\n",
            "Epoch 49/100\n",
            "354/354 [==============================] - 1s 2ms/step - loss: 7.1384 - mae: 2.0211 - val_loss: 13.7123 - val_mae: 2.4366\n",
            "Epoch 50/100\n",
            "354/354 [==============================] - 1s 2ms/step - loss: 6.7929 - mae: 1.9830 - val_loss: 16.9308 - val_mae: 2.7611\n",
            "Epoch 51/100\n",
            "354/354 [==============================] - 1s 2ms/step - loss: 8.1160 - mae: 2.0611 - val_loss: 20.2179 - val_mae: 3.2290\n",
            "Epoch 52/100\n",
            "354/354 [==============================] - 1s 3ms/step - loss: 6.7819 - mae: 1.9563 - val_loss: 12.7494 - val_mae: 2.2721\n",
            "Epoch 53/100\n",
            "354/354 [==============================] - 1s 3ms/step - loss: 7.1224 - mae: 1.9924 - val_loss: 16.2687 - val_mae: 2.3695\n",
            "Epoch 54/100\n",
            "354/354 [==============================] - 1s 3ms/step - loss: 8.0746 - mae: 2.0824 - val_loss: 12.8575 - val_mae: 2.2655\n",
            "Epoch 55/100\n",
            "354/354 [==============================] - 2s 4ms/step - loss: 6.3682 - mae: 1.8640 - val_loss: 12.9857 - val_mae: 2.3309\n",
            "Epoch 56/100\n",
            "354/354 [==============================] - 1s 3ms/step - loss: 5.9775 - mae: 1.8493 - val_loss: 13.3916 - val_mae: 2.3764\n",
            "Epoch 57/100\n",
            "354/354 [==============================] - 1s 2ms/step - loss: 6.5640 - mae: 1.9764 - val_loss: 16.8693 - val_mae: 2.8584\n",
            "Epoch 58/100\n",
            "354/354 [==============================] - 1s 3ms/step - loss: 7.0912 - mae: 1.9838 - val_loss: 23.4202 - val_mae: 3.6130\n",
            "Epoch 59/100\n",
            "354/354 [==============================] - 1s 3ms/step - loss: 6.7646 - mae: 1.9469 - val_loss: 16.2323 - val_mae: 2.6040\n",
            "Epoch 60/100\n",
            "354/354 [==============================] - 1s 2ms/step - loss: 6.0932 - mae: 1.8957 - val_loss: 15.8719 - val_mae: 2.8516\n",
            "Epoch 61/100\n",
            "354/354 [==============================] - 1s 3ms/step - loss: 7.1656 - mae: 1.9679 - val_loss: 18.1572 - val_mae: 3.0636\n",
            "Epoch 62/100\n",
            "354/354 [==============================] - 1s 3ms/step - loss: 6.0308 - mae: 1.8906 - val_loss: 20.4556 - val_mae: 3.4474\n",
            "Epoch 63/100\n",
            "354/354 [==============================] - 1s 2ms/step - loss: 6.3990 - mae: 1.9237 - val_loss: 17.8828 - val_mae: 3.0166\n",
            "Epoch 64/100\n",
            "354/354 [==============================] - 1s 2ms/step - loss: 6.2745 - mae: 1.9289 - val_loss: 15.4456 - val_mae: 2.7560\n",
            "Epoch 65/100\n",
            "354/354 [==============================] - 1s 3ms/step - loss: 5.7614 - mae: 1.7991 - val_loss: 21.6201 - val_mae: 3.4619\n",
            "Epoch 66/100\n",
            "354/354 [==============================] - 1s 2ms/step - loss: 5.5220 - mae: 1.8105 - val_loss: 15.1050 - val_mae: 2.4711\n",
            "Epoch 67/100\n",
            "354/354 [==============================] - 1s 3ms/step - loss: 5.6386 - mae: 1.7523 - val_loss: 23.7157 - val_mae: 3.7937\n",
            "Epoch 68/100\n",
            "354/354 [==============================] - 1s 4ms/step - loss: 6.2677 - mae: 1.9120 - val_loss: 16.9265 - val_mae: 3.0064\n",
            "Epoch 69/100\n",
            "354/354 [==============================] - 2s 4ms/step - loss: 5.1364 - mae: 1.7117 - val_loss: 12.9863 - val_mae: 2.3521\n",
            "Epoch 70/100\n",
            "354/354 [==============================] - 2s 4ms/step - loss: 6.3181 - mae: 1.8956 - val_loss: 14.9126 - val_mae: 2.5117\n",
            "Epoch 71/100\n",
            "354/354 [==============================] - 1s 2ms/step - loss: 5.5728 - mae: 1.7622 - val_loss: 14.3956 - val_mae: 2.4853\n",
            "Epoch 72/100\n",
            "354/354 [==============================] - 1s 3ms/step - loss: 6.5451 - mae: 1.9707 - val_loss: 16.9339 - val_mae: 2.5615\n",
            "Epoch 73/100\n",
            "354/354 [==============================] - 1s 2ms/step - loss: 6.4785 - mae: 1.8647 - val_loss: 12.5502 - val_mae: 2.3756\n",
            "Epoch 74/100\n",
            "354/354 [==============================] - 1s 2ms/step - loss: 4.8651 - mae: 1.6543 - val_loss: 13.0259 - val_mae: 2.4448\n",
            "Epoch 75/100\n",
            "354/354 [==============================] - 1s 3ms/step - loss: 4.9838 - mae: 1.6931 - val_loss: 13.3635 - val_mae: 2.5170\n",
            "Epoch 76/100\n",
            "354/354 [==============================] - 1s 3ms/step - loss: 5.2039 - mae: 1.7260 - val_loss: 14.3728 - val_mae: 2.5686\n",
            "Epoch 77/100\n",
            "354/354 [==============================] - 1s 3ms/step - loss: 5.1762 - mae: 1.7291 - val_loss: 13.6143 - val_mae: 2.7092\n",
            "Epoch 78/100\n",
            "354/354 [==============================] - 1s 3ms/step - loss: 5.1273 - mae: 1.7125 - val_loss: 15.3140 - val_mae: 2.4699\n",
            "Epoch 79/100\n",
            "354/354 [==============================] - 1s 3ms/step - loss: 5.7387 - mae: 1.8190 - val_loss: 13.8811 - val_mae: 2.4590\n",
            "Epoch 80/100\n",
            "354/354 [==============================] - 1s 4ms/step - loss: 4.4989 - mae: 1.5914 - val_loss: 17.2449 - val_mae: 2.9191\n",
            "Epoch 81/100\n",
            "354/354 [==============================] - 1s 3ms/step - loss: 5.0365 - mae: 1.7389 - val_loss: 15.3134 - val_mae: 2.7415\n",
            "Epoch 82/100\n",
            "354/354 [==============================] - 1s 2ms/step - loss: 4.7781 - mae: 1.6597 - val_loss: 15.9544 - val_mae: 2.9204\n",
            "Epoch 83/100\n",
            "354/354 [==============================] - 1s 2ms/step - loss: 5.2118 - mae: 1.7087 - val_loss: 18.5763 - val_mae: 2.9997\n",
            "Epoch 84/100\n",
            "354/354 [==============================] - 1s 2ms/step - loss: 5.3847 - mae: 1.7464 - val_loss: 16.3779 - val_mae: 2.6403\n",
            "Epoch 85/100\n",
            "354/354 [==============================] - 1s 2ms/step - loss: 5.0335 - mae: 1.6613 - val_loss: 14.3547 - val_mae: 2.5568\n",
            "Epoch 86/100\n",
            "354/354 [==============================] - 1s 3ms/step - loss: 4.9067 - mae: 1.6683 - val_loss: 20.1346 - val_mae: 3.3541\n",
            "Epoch 87/100\n",
            "354/354 [==============================] - 1s 3ms/step - loss: 4.6686 - mae: 1.5904 - val_loss: 20.1024 - val_mae: 2.9334\n",
            "Epoch 88/100\n",
            "354/354 [==============================] - 1s 2ms/step - loss: 5.8475 - mae: 1.7978 - val_loss: 13.8743 - val_mae: 2.5884\n",
            "Epoch 89/100\n",
            "354/354 [==============================] - 1s 3ms/step - loss: 5.2905 - mae: 1.6906 - val_loss: 14.0771 - val_mae: 2.4124\n",
            "Epoch 90/100\n",
            "354/354 [==============================] - 1s 3ms/step - loss: 4.3226 - mae: 1.5821 - val_loss: 13.5809 - val_mae: 2.2938\n",
            "Epoch 91/100\n",
            "354/354 [==============================] - 1s 3ms/step - loss: 4.6474 - mae: 1.6605 - val_loss: 14.5235 - val_mae: 2.6424\n",
            "Epoch 92/100\n",
            "354/354 [==============================] - 1s 4ms/step - loss: 4.9074 - mae: 1.6549 - val_loss: 15.0782 - val_mae: 2.4630\n",
            "Epoch 93/100\n",
            "354/354 [==============================] - 1s 4ms/step - loss: 5.0194 - mae: 1.6460 - val_loss: 13.8348 - val_mae: 2.5166\n",
            "Epoch 94/100\n",
            "354/354 [==============================] - 1s 3ms/step - loss: 4.5851 - mae: 1.5950 - val_loss: 15.5106 - val_mae: 2.3929\n",
            "Epoch 95/100\n",
            "354/354 [==============================] - 1s 2ms/step - loss: 4.7329 - mae: 1.6282 - val_loss: 14.6423 - val_mae: 2.5112\n",
            "Epoch 96/100\n",
            "354/354 [==============================] - 1s 3ms/step - loss: 4.1785 - mae: 1.4938 - val_loss: 15.9999 - val_mae: 2.6882\n",
            "Epoch 97/100\n",
            "354/354 [==============================] - 1s 2ms/step - loss: 4.2987 - mae: 1.5420 - val_loss: 17.8253 - val_mae: 2.9318\n",
            "Epoch 98/100\n",
            "354/354 [==============================] - 1s 2ms/step - loss: 4.4394 - mae: 1.6113 - val_loss: 15.8516 - val_mae: 2.6515\n",
            "Epoch 99/100\n",
            "354/354 [==============================] - 1s 3ms/step - loss: 4.4356 - mae: 1.6320 - val_loss: 15.7810 - val_mae: 2.4909\n",
            "Epoch 100/100\n",
            "354/354 [==============================] - 1s 3ms/step - loss: 4.4714 - mae: 1.6026 - val_loss: 15.3527 - val_mae: 2.5465\n"
          ]
        }
      ],
      "source": [
        "history=model.fit(x=x_train_scaled,y=y_train,batch_size=1,verbose=1,epochs=100,validation_data=(x_test_scaled,y_test))"
      ]
    },
    {
      "cell_type": "code",
      "execution_count": 16,
      "id": "5d9058de",
      "metadata": {
        "id": "5d9058de",
        "outputId": "bf14c2ff-47f2-402a-e515-3897282939c3",
        "colab": {
          "base_uri": "https://localhost:8080/"
        }
      },
      "outputs": [
        {
          "output_type": "stream",
          "name": "stdout",
          "text": [
            "actual output: 24.0\n",
            "1/1 [==============================] - 0s 130ms/step\n",
            "predicted output: [[24.351797]]\n"
          ]
        }
      ],
      "source": [
        "test_input = [[0.00154995, 0.        , 0.28962963, 0.        , 0.27777778,\n",
        "       0.56936665, 0.70442842, 0.15699879, 0.17391304, 0.3759542 ,\n",
        "       0.88297872, 0.99665297, 0.16851064]]\n",
        "print(\"actual output:\",24.0)\n",
        "print(\"predicted output:\",model.predict(test_input))"
      ]
    },
    {
      "cell_type": "code",
      "execution_count": 17,
      "id": "f94d08e6",
      "metadata": {
        "id": "f94d08e6",
        "outputId": "51965f8a-32e1-4a0a-8177-43f8b55d687f",
        "colab": {
          "base_uri": "https://localhost:8080/",
          "height": 472
        }
      },
      "outputs": [
        {
          "output_type": "display_data",
          "data": {
            "text/plain": [
              "<Figure size 640x480 with 1 Axes>"
            ],
            "image/png": "[encoded data removed]"
          },
          "metadata": {}
        }
      ],
      "source": [
        "import matplotlib.pyplot as plt\n",
        "\n",
        "# Plot training & validation loss values\n",
        "plt.plot(history.history['loss'])\n",
        "plt.plot(history.history['val_loss'])\n",
        "plt.title('Model Loss')\n",
        "plt.xlabel('Epoch')\n",
        "plt.ylabel('Loss')\n",
        "plt.legend(['Train', 'Validation'], loc='upper left')\n",
        "plt.show()\n"
      ]
    },
    {
      "cell_type": "code",
      "execution_count": null,
      "id": "9d27e44c",
      "metadata": {
        "id": "9d27e44c"
      },
      "outputs": [],
      "source": []
    }
  ],
  "metadata": {
    "kernelspec": {
      "display_name": "Python 3 (ipykernel)",
      "language": "python",
      "name": "python3"
    },
    "language_info": {
      "codemirror_mode": {
        "name": "ipython",
        "version": 3
      },
      "file_extension": ".py",
      "mimetype": "text/x-python",
      "name": "python",
      "nbconvert_exporter": "python",
      "pygments_lexer": "ipython3",
      "version": "3.11.3"
    },
    "colab": {
      "provenance": [],
      "include_colab_link": true
    }
  },
  "nbformat": 4,
  "nbformat_minor": 5
}